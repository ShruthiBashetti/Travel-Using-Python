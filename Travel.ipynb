{
 "cells": [
  {
   "cell_type": "code",
   "execution_count": 1,
   "id": "3db7171d",
   "metadata": {},
   "outputs": [],
   "source": [
    "import numpy as np\n",
    "import pandas as pd\n",
    "import matplotlib.pyplot as plt\n",
    "%matplotlib inline   \n",
    "import seaborn as sns"
   ]
  },
  {
   "cell_type": "code",
   "execution_count": 2,
   "id": "ee47311e",
   "metadata": {},
   "outputs": [],
   "source": [
    "Travel = pd.read_csv(\"Travel1.csv\")"
   ]
  },
  {
   "cell_type": "code",
   "execution_count": 3,
   "id": "a0602e5f",
   "metadata": {},
   "outputs": [
    {
     "data": {
      "text/html": [
       "<div>\n",
       "<style scoped>\n",
       "    .dataframe tbody tr th:only-of-type {\n",
       "        vertical-align: middle;\n",
       "    }\n",
       "\n",
       "    .dataframe tbody tr th {\n",
       "        vertical-align: top;\n",
       "    }\n",
       "\n",
       "    .dataframe thead th {\n",
       "        text-align: right;\n",
       "    }\n",
       "</style>\n",
       "<table border=\"1\" class=\"dataframe\">\n",
       "  <thead>\n",
       "    <tr style=\"text-align: right;\">\n",
       "      <th></th>\n",
       "      <th>Trip ID</th>\n",
       "      <th>Destination</th>\n",
       "      <th>Start date</th>\n",
       "      <th>End date</th>\n",
       "      <th>Duration (days)</th>\n",
       "      <th>Traveler name</th>\n",
       "      <th>Traveler age</th>\n",
       "      <th>Traveler gender</th>\n",
       "      <th>Traveler nationality</th>\n",
       "      <th>Accommodation type</th>\n",
       "      <th>Accommodation cost</th>\n",
       "      <th>Transportation type</th>\n",
       "      <th>Transportation cost</th>\n",
       "    </tr>\n",
       "  </thead>\n",
       "  <tbody>\n",
       "    <tr>\n",
       "      <th>0</th>\n",
       "      <td>1</td>\n",
       "      <td>London, UK</td>\n",
       "      <td>5/1/2023</td>\n",
       "      <td>5/8/2023</td>\n",
       "      <td>7.0</td>\n",
       "      <td>John Smith</td>\n",
       "      <td>35.0</td>\n",
       "      <td>Male</td>\n",
       "      <td>American</td>\n",
       "      <td>Hotel</td>\n",
       "      <td>1200</td>\n",
       "      <td>Flight</td>\n",
       "      <td>600</td>\n",
       "    </tr>\n",
       "    <tr>\n",
       "      <th>1</th>\n",
       "      <td>2</td>\n",
       "      <td>Phuket, Thailand</td>\n",
       "      <td>6/15/2023</td>\n",
       "      <td>6/20/2023</td>\n",
       "      <td>5.0</td>\n",
       "      <td>Jane Doe</td>\n",
       "      <td>28.0</td>\n",
       "      <td>Female</td>\n",
       "      <td>Canadian</td>\n",
       "      <td>Resort</td>\n",
       "      <td>800</td>\n",
       "      <td>Flight</td>\n",
       "      <td>500</td>\n",
       "    </tr>\n",
       "    <tr>\n",
       "      <th>2</th>\n",
       "      <td>3</td>\n",
       "      <td>Bali, Indonesia</td>\n",
       "      <td>7/1/2023</td>\n",
       "      <td>7/8/2023</td>\n",
       "      <td>7.0</td>\n",
       "      <td>David Lee</td>\n",
       "      <td>45.0</td>\n",
       "      <td>Male</td>\n",
       "      <td>Korean</td>\n",
       "      <td>Villa</td>\n",
       "      <td>1000</td>\n",
       "      <td>Flight</td>\n",
       "      <td>700</td>\n",
       "    </tr>\n",
       "    <tr>\n",
       "      <th>3</th>\n",
       "      <td>4</td>\n",
       "      <td>New York, USA</td>\n",
       "      <td>8/15/2023</td>\n",
       "      <td>8/29/2023</td>\n",
       "      <td>14.0</td>\n",
       "      <td>Sarah Johnson</td>\n",
       "      <td>29.0</td>\n",
       "      <td>Female</td>\n",
       "      <td>British</td>\n",
       "      <td>Hotel</td>\n",
       "      <td>2000</td>\n",
       "      <td>Flight</td>\n",
       "      <td>1000</td>\n",
       "    </tr>\n",
       "    <tr>\n",
       "      <th>4</th>\n",
       "      <td>5</td>\n",
       "      <td>Tokyo, Japan</td>\n",
       "      <td>9/10/2023</td>\n",
       "      <td>9/17/2023</td>\n",
       "      <td>7.0</td>\n",
       "      <td>Kim Nguyen</td>\n",
       "      <td>26.0</td>\n",
       "      <td>Female</td>\n",
       "      <td>Vietnamese</td>\n",
       "      <td>Airbnb</td>\n",
       "      <td>700</td>\n",
       "      <td>Train</td>\n",
       "      <td>200</td>\n",
       "    </tr>\n",
       "    <tr>\n",
       "      <th>...</th>\n",
       "      <td>...</td>\n",
       "      <td>...</td>\n",
       "      <td>...</td>\n",
       "      <td>...</td>\n",
       "      <td>...</td>\n",
       "      <td>...</td>\n",
       "      <td>...</td>\n",
       "      <td>...</td>\n",
       "      <td>...</td>\n",
       "      <td>...</td>\n",
       "      <td>...</td>\n",
       "      <td>...</td>\n",
       "      <td>...</td>\n",
       "    </tr>\n",
       "    <tr>\n",
       "      <th>134</th>\n",
       "      <td>135</td>\n",
       "      <td>Rio de Janeiro, Brazil</td>\n",
       "      <td>8/1/2023</td>\n",
       "      <td>8/10/2023</td>\n",
       "      <td>9.0</td>\n",
       "      <td>Jose Perez</td>\n",
       "      <td>37.0</td>\n",
       "      <td>Male</td>\n",
       "      <td>Brazilian</td>\n",
       "      <td>Hostel</td>\n",
       "      <td>2500</td>\n",
       "      <td>Car</td>\n",
       "      <td>2000</td>\n",
       "    </tr>\n",
       "    <tr>\n",
       "      <th>135</th>\n",
       "      <td>136</td>\n",
       "      <td>Vancouver, Canada</td>\n",
       "      <td>8/15/2023</td>\n",
       "      <td>8/21/2023</td>\n",
       "      <td>6.0</td>\n",
       "      <td>Emma Wilson</td>\n",
       "      <td>29.0</td>\n",
       "      <td>Female</td>\n",
       "      <td>Canadian</td>\n",
       "      <td>Hotel</td>\n",
       "      <td>5000</td>\n",
       "      <td>Airplane</td>\n",
       "      <td>3000</td>\n",
       "    </tr>\n",
       "    <tr>\n",
       "      <th>136</th>\n",
       "      <td>137</td>\n",
       "      <td>Bangkok, Thailand</td>\n",
       "      <td>9/1/2023</td>\n",
       "      <td>9/8/2023</td>\n",
       "      <td>7.0</td>\n",
       "      <td>Ryan Chen</td>\n",
       "      <td>34.0</td>\n",
       "      <td>Male</td>\n",
       "      <td>Chinese</td>\n",
       "      <td>Hostel</td>\n",
       "      <td>2000</td>\n",
       "      <td>Train</td>\n",
       "      <td>1000</td>\n",
       "    </tr>\n",
       "    <tr>\n",
       "      <th>137</th>\n",
       "      <td>138</td>\n",
       "      <td>Barcelona, Spain</td>\n",
       "      <td>9/15/2023</td>\n",
       "      <td>9/22/2023</td>\n",
       "      <td>7.0</td>\n",
       "      <td>Sofia Rodriguez</td>\n",
       "      <td>25.0</td>\n",
       "      <td>Female</td>\n",
       "      <td>Spanish</td>\n",
       "      <td>Airbnb</td>\n",
       "      <td>6000</td>\n",
       "      <td>Airplane</td>\n",
       "      <td>2500</td>\n",
       "    </tr>\n",
       "    <tr>\n",
       "      <th>138</th>\n",
       "      <td>139</td>\n",
       "      <td>Auckland, New Zealand</td>\n",
       "      <td>10/1/2023</td>\n",
       "      <td>10/8/2023</td>\n",
       "      <td>7.0</td>\n",
       "      <td>William Brown</td>\n",
       "      <td>39.0</td>\n",
       "      <td>Male</td>\n",
       "      <td>New Zealander</td>\n",
       "      <td>Hotel</td>\n",
       "      <td>7000</td>\n",
       "      <td>Train</td>\n",
       "      <td>2500</td>\n",
       "    </tr>\n",
       "  </tbody>\n",
       "</table>\n",
       "<p>139 rows × 13 columns</p>\n",
       "</div>"
      ],
      "text/plain": [
       "     Trip ID             Destination Start date   End date  Duration (days)  \\\n",
       "0          1              London, UK   5/1/2023   5/8/2023              7.0   \n",
       "1          2        Phuket, Thailand  6/15/2023  6/20/2023              5.0   \n",
       "2          3         Bali, Indonesia   7/1/2023   7/8/2023              7.0   \n",
       "3          4           New York, USA  8/15/2023  8/29/2023             14.0   \n",
       "4          5            Tokyo, Japan  9/10/2023  9/17/2023              7.0   \n",
       "..       ...                     ...        ...        ...              ...   \n",
       "134      135  Rio de Janeiro, Brazil   8/1/2023  8/10/2023              9.0   \n",
       "135      136       Vancouver, Canada  8/15/2023  8/21/2023              6.0   \n",
       "136      137       Bangkok, Thailand   9/1/2023   9/8/2023              7.0   \n",
       "137      138        Barcelona, Spain  9/15/2023  9/22/2023              7.0   \n",
       "138      139   Auckland, New Zealand  10/1/2023  10/8/2023              7.0   \n",
       "\n",
       "       Traveler name  Traveler age Traveler gender Traveler nationality  \\\n",
       "0         John Smith          35.0            Male             American   \n",
       "1           Jane Doe          28.0          Female             Canadian   \n",
       "2          David Lee          45.0            Male               Korean   \n",
       "3      Sarah Johnson          29.0          Female              British   \n",
       "4         Kim Nguyen          26.0          Female           Vietnamese   \n",
       "..               ...           ...             ...                  ...   \n",
       "134       Jose Perez          37.0            Male            Brazilian   \n",
       "135      Emma Wilson          29.0          Female             Canadian   \n",
       "136        Ryan Chen          34.0            Male              Chinese   \n",
       "137  Sofia Rodriguez          25.0          Female              Spanish   \n",
       "138    William Brown          39.0            Male        New Zealander   \n",
       "\n",
       "    Accommodation type Accommodation cost Transportation type  \\\n",
       "0                Hotel               1200              Flight   \n",
       "1               Resort                800              Flight   \n",
       "2                Villa               1000              Flight   \n",
       "3                Hotel               2000              Flight   \n",
       "4               Airbnb                700               Train   \n",
       "..                 ...                ...                 ...   \n",
       "134             Hostel               2500                 Car   \n",
       "135              Hotel               5000            Airplane   \n",
       "136             Hostel               2000               Train   \n",
       "137             Airbnb               6000            Airplane   \n",
       "138              Hotel               7000               Train   \n",
       "\n",
       "    Transportation cost  \n",
       "0                   600  \n",
       "1                   500  \n",
       "2                   700  \n",
       "3                  1000  \n",
       "4                   200  \n",
       "..                  ...  \n",
       "134                2000  \n",
       "135                3000  \n",
       "136                1000  \n",
       "137                2500  \n",
       "138                2500  \n",
       "\n",
       "[139 rows x 13 columns]"
      ]
     },
     "execution_count": 3,
     "metadata": {},
     "output_type": "execute_result"
    }
   ],
   "source": [
    "Travel"
   ]
  },
  {
   "cell_type": "code",
   "execution_count": 4,
   "id": "73014c4e",
   "metadata": {},
   "outputs": [
    {
     "data": {
      "text/plain": [
       "(139, 13)"
      ]
     },
     "execution_count": 4,
     "metadata": {},
     "output_type": "execute_result"
    }
   ],
   "source": [
    "Travel.shape"
   ]
  },
  {
   "cell_type": "code",
   "execution_count": 5,
   "id": "899fb909",
   "metadata": {},
   "outputs": [
    {
     "data": {
      "text/plain": [
       "Trip ID                   int64\n",
       "Destination              object\n",
       "Start date               object\n",
       "End date                 object\n",
       "Duration (days)         float64\n",
       "Traveler name            object\n",
       "Traveler age            float64\n",
       "Traveler gender          object\n",
       "Traveler nationality     object\n",
       "Accommodation type       object\n",
       "Accommodation cost       object\n",
       "Transportation type      object\n",
       "Transportation cost      object\n",
       "dtype: object"
      ]
     },
     "execution_count": 5,
     "metadata": {},
     "output_type": "execute_result"
    }
   ],
   "source": [
    "Travel.dtypes"
   ]
  },
  {
   "cell_type": "code",
   "execution_count": 6,
   "id": "aade2c5c",
   "metadata": {},
   "outputs": [
    {
     "data": {
      "text/plain": [
       "Index(['Trip ID', 'Destination', 'Start date', 'End date', 'Duration (days)',\n",
       "       'Traveler name', 'Traveler age', 'Traveler gender',\n",
       "       'Traveler nationality', 'Accommodation type', 'Accommodation cost',\n",
       "       'Transportation type', 'Transportation cost'],\n",
       "      dtype='object')"
      ]
     },
     "execution_count": 6,
     "metadata": {},
     "output_type": "execute_result"
    }
   ],
   "source": [
    "Travel.columns"
   ]
  },
  {
   "cell_type": "code",
   "execution_count": 7,
   "id": "1c6db23d",
   "metadata": {},
   "outputs": [
    {
     "data": {
      "text/html": [
       "<div>\n",
       "<style scoped>\n",
       "    .dataframe tbody tr th:only-of-type {\n",
       "        vertical-align: middle;\n",
       "    }\n",
       "\n",
       "    .dataframe tbody tr th {\n",
       "        vertical-align: top;\n",
       "    }\n",
       "\n",
       "    .dataframe thead th {\n",
       "        text-align: right;\n",
       "    }\n",
       "</style>\n",
       "<table border=\"1\" class=\"dataframe\">\n",
       "  <thead>\n",
       "    <tr style=\"text-align: right;\">\n",
       "      <th></th>\n",
       "      <th>Trip ID</th>\n",
       "      <th>Duration (days)</th>\n",
       "      <th>Traveler age</th>\n",
       "    </tr>\n",
       "  </thead>\n",
       "  <tbody>\n",
       "    <tr>\n",
       "      <th>count</th>\n",
       "      <td>139.000000</td>\n",
       "      <td>137.000000</td>\n",
       "      <td>137.000000</td>\n",
       "    </tr>\n",
       "    <tr>\n",
       "      <th>mean</th>\n",
       "      <td>70.000000</td>\n",
       "      <td>7.605839</td>\n",
       "      <td>33.175182</td>\n",
       "    </tr>\n",
       "    <tr>\n",
       "      <th>std</th>\n",
       "      <td>40.269923</td>\n",
       "      <td>1.601276</td>\n",
       "      <td>7.145441</td>\n",
       "    </tr>\n",
       "    <tr>\n",
       "      <th>min</th>\n",
       "      <td>1.000000</td>\n",
       "      <td>5.000000</td>\n",
       "      <td>20.000000</td>\n",
       "    </tr>\n",
       "    <tr>\n",
       "      <th>25%</th>\n",
       "      <td>35.500000</td>\n",
       "      <td>7.000000</td>\n",
       "      <td>28.000000</td>\n",
       "    </tr>\n",
       "    <tr>\n",
       "      <th>50%</th>\n",
       "      <td>70.000000</td>\n",
       "      <td>7.000000</td>\n",
       "      <td>31.000000</td>\n",
       "    </tr>\n",
       "    <tr>\n",
       "      <th>75%</th>\n",
       "      <td>104.500000</td>\n",
       "      <td>8.000000</td>\n",
       "      <td>38.000000</td>\n",
       "    </tr>\n",
       "    <tr>\n",
       "      <th>max</th>\n",
       "      <td>139.000000</td>\n",
       "      <td>14.000000</td>\n",
       "      <td>60.000000</td>\n",
       "    </tr>\n",
       "  </tbody>\n",
       "</table>\n",
       "</div>"
      ],
      "text/plain": [
       "          Trip ID  Duration (days)  Traveler age\n",
       "count  139.000000       137.000000    137.000000\n",
       "mean    70.000000         7.605839     33.175182\n",
       "std     40.269923         1.601276      7.145441\n",
       "min      1.000000         5.000000     20.000000\n",
       "25%     35.500000         7.000000     28.000000\n",
       "50%     70.000000         7.000000     31.000000\n",
       "75%    104.500000         8.000000     38.000000\n",
       "max    139.000000        14.000000     60.000000"
      ]
     },
     "execution_count": 7,
     "metadata": {},
     "output_type": "execute_result"
    }
   ],
   "source": [
    "Travel.describe()"
   ]
  },
  {
   "cell_type": "code",
   "execution_count": 8,
   "id": "245ddf4a",
   "metadata": {},
   "outputs": [
    {
     "data": {
      "text/html": [
       "<div>\n",
       "<style scoped>\n",
       "    .dataframe tbody tr th:only-of-type {\n",
       "        vertical-align: middle;\n",
       "    }\n",
       "\n",
       "    .dataframe tbody tr th {\n",
       "        vertical-align: top;\n",
       "    }\n",
       "\n",
       "    .dataframe thead th {\n",
       "        text-align: right;\n",
       "    }\n",
       "</style>\n",
       "<table border=\"1\" class=\"dataframe\">\n",
       "  <thead>\n",
       "    <tr style=\"text-align: right;\">\n",
       "      <th></th>\n",
       "      <th>count</th>\n",
       "      <th>mean</th>\n",
       "      <th>std</th>\n",
       "      <th>min</th>\n",
       "      <th>25%</th>\n",
       "      <th>50%</th>\n",
       "      <th>75%</th>\n",
       "      <th>max</th>\n",
       "    </tr>\n",
       "  </thead>\n",
       "  <tbody>\n",
       "    <tr>\n",
       "      <th>Trip ID</th>\n",
       "      <td>139.0</td>\n",
       "      <td>70.000000</td>\n",
       "      <td>40.269923</td>\n",
       "      <td>1.0</td>\n",
       "      <td>35.5</td>\n",
       "      <td>70.0</td>\n",
       "      <td>104.5</td>\n",
       "      <td>139.0</td>\n",
       "    </tr>\n",
       "    <tr>\n",
       "      <th>Duration (days)</th>\n",
       "      <td>137.0</td>\n",
       "      <td>7.605839</td>\n",
       "      <td>1.601276</td>\n",
       "      <td>5.0</td>\n",
       "      <td>7.0</td>\n",
       "      <td>7.0</td>\n",
       "      <td>8.0</td>\n",
       "      <td>14.0</td>\n",
       "    </tr>\n",
       "    <tr>\n",
       "      <th>Traveler age</th>\n",
       "      <td>137.0</td>\n",
       "      <td>33.175182</td>\n",
       "      <td>7.145441</td>\n",
       "      <td>20.0</td>\n",
       "      <td>28.0</td>\n",
       "      <td>31.0</td>\n",
       "      <td>38.0</td>\n",
       "      <td>60.0</td>\n",
       "    </tr>\n",
       "  </tbody>\n",
       "</table>\n",
       "</div>"
      ],
      "text/plain": [
       "                 count       mean        std   min   25%   50%    75%    max\n",
       "Trip ID          139.0  70.000000  40.269923   1.0  35.5  70.0  104.5  139.0\n",
       "Duration (days)  137.0   7.605839   1.601276   5.0   7.0   7.0    8.0   14.0\n",
       "Traveler age     137.0  33.175182   7.145441  20.0  28.0  31.0   38.0   60.0"
      ]
     },
     "execution_count": 8,
     "metadata": {},
     "output_type": "execute_result"
    }
   ],
   "source": [
    "Travel.describe().T"
   ]
  },
  {
   "cell_type": "code",
   "execution_count": 9,
   "id": "6237d73b",
   "metadata": {},
   "outputs": [
    {
     "data": {
      "text/html": [
       "<div>\n",
       "<style scoped>\n",
       "    .dataframe tbody tr th:only-of-type {\n",
       "        vertical-align: middle;\n",
       "    }\n",
       "\n",
       "    .dataframe tbody tr th {\n",
       "        vertical-align: top;\n",
       "    }\n",
       "\n",
       "    .dataframe thead th {\n",
       "        text-align: right;\n",
       "    }\n",
       "</style>\n",
       "<table border=\"1\" class=\"dataframe\">\n",
       "  <thead>\n",
       "    <tr style=\"text-align: right;\">\n",
       "      <th></th>\n",
       "      <th>Trip ID</th>\n",
       "      <th>Destination</th>\n",
       "      <th>Start date</th>\n",
       "      <th>End date</th>\n",
       "      <th>Duration (days)</th>\n",
       "      <th>Traveler name</th>\n",
       "      <th>Traveler age</th>\n",
       "      <th>Traveler gender</th>\n",
       "      <th>Traveler nationality</th>\n",
       "      <th>Accommodation type</th>\n",
       "      <th>Accommodation cost</th>\n",
       "      <th>Transportation type</th>\n",
       "      <th>Transportation cost</th>\n",
       "    </tr>\n",
       "  </thead>\n",
       "  <tbody>\n",
       "    <tr>\n",
       "      <th>0</th>\n",
       "      <td>False</td>\n",
       "      <td>False</td>\n",
       "      <td>False</td>\n",
       "      <td>False</td>\n",
       "      <td>False</td>\n",
       "      <td>False</td>\n",
       "      <td>False</td>\n",
       "      <td>False</td>\n",
       "      <td>False</td>\n",
       "      <td>False</td>\n",
       "      <td>False</td>\n",
       "      <td>False</td>\n",
       "      <td>False</td>\n",
       "    </tr>\n",
       "    <tr>\n",
       "      <th>1</th>\n",
       "      <td>False</td>\n",
       "      <td>False</td>\n",
       "      <td>False</td>\n",
       "      <td>False</td>\n",
       "      <td>False</td>\n",
       "      <td>False</td>\n",
       "      <td>False</td>\n",
       "      <td>False</td>\n",
       "      <td>False</td>\n",
       "      <td>False</td>\n",
       "      <td>False</td>\n",
       "      <td>False</td>\n",
       "      <td>False</td>\n",
       "    </tr>\n",
       "    <tr>\n",
       "      <th>2</th>\n",
       "      <td>False</td>\n",
       "      <td>False</td>\n",
       "      <td>False</td>\n",
       "      <td>False</td>\n",
       "      <td>False</td>\n",
       "      <td>False</td>\n",
       "      <td>False</td>\n",
       "      <td>False</td>\n",
       "      <td>False</td>\n",
       "      <td>False</td>\n",
       "      <td>False</td>\n",
       "      <td>False</td>\n",
       "      <td>False</td>\n",
       "    </tr>\n",
       "    <tr>\n",
       "      <th>3</th>\n",
       "      <td>False</td>\n",
       "      <td>False</td>\n",
       "      <td>False</td>\n",
       "      <td>False</td>\n",
       "      <td>False</td>\n",
       "      <td>False</td>\n",
       "      <td>False</td>\n",
       "      <td>False</td>\n",
       "      <td>False</td>\n",
       "      <td>False</td>\n",
       "      <td>False</td>\n",
       "      <td>False</td>\n",
       "      <td>False</td>\n",
       "    </tr>\n",
       "    <tr>\n",
       "      <th>4</th>\n",
       "      <td>False</td>\n",
       "      <td>False</td>\n",
       "      <td>False</td>\n",
       "      <td>False</td>\n",
       "      <td>False</td>\n",
       "      <td>False</td>\n",
       "      <td>False</td>\n",
       "      <td>False</td>\n",
       "      <td>False</td>\n",
       "      <td>False</td>\n",
       "      <td>False</td>\n",
       "      <td>False</td>\n",
       "      <td>False</td>\n",
       "    </tr>\n",
       "    <tr>\n",
       "      <th>...</th>\n",
       "      <td>...</td>\n",
       "      <td>...</td>\n",
       "      <td>...</td>\n",
       "      <td>...</td>\n",
       "      <td>...</td>\n",
       "      <td>...</td>\n",
       "      <td>...</td>\n",
       "      <td>...</td>\n",
       "      <td>...</td>\n",
       "      <td>...</td>\n",
       "      <td>...</td>\n",
       "      <td>...</td>\n",
       "      <td>...</td>\n",
       "    </tr>\n",
       "    <tr>\n",
       "      <th>134</th>\n",
       "      <td>False</td>\n",
       "      <td>False</td>\n",
       "      <td>False</td>\n",
       "      <td>False</td>\n",
       "      <td>False</td>\n",
       "      <td>False</td>\n",
       "      <td>False</td>\n",
       "      <td>False</td>\n",
       "      <td>False</td>\n",
       "      <td>False</td>\n",
       "      <td>False</td>\n",
       "      <td>False</td>\n",
       "      <td>False</td>\n",
       "    </tr>\n",
       "    <tr>\n",
       "      <th>135</th>\n",
       "      <td>False</td>\n",
       "      <td>False</td>\n",
       "      <td>False</td>\n",
       "      <td>False</td>\n",
       "      <td>False</td>\n",
       "      <td>False</td>\n",
       "      <td>False</td>\n",
       "      <td>False</td>\n",
       "      <td>False</td>\n",
       "      <td>False</td>\n",
       "      <td>False</td>\n",
       "      <td>False</td>\n",
       "      <td>False</td>\n",
       "    </tr>\n",
       "    <tr>\n",
       "      <th>136</th>\n",
       "      <td>False</td>\n",
       "      <td>False</td>\n",
       "      <td>False</td>\n",
       "      <td>False</td>\n",
       "      <td>False</td>\n",
       "      <td>False</td>\n",
       "      <td>False</td>\n",
       "      <td>False</td>\n",
       "      <td>False</td>\n",
       "      <td>False</td>\n",
       "      <td>False</td>\n",
       "      <td>False</td>\n",
       "      <td>False</td>\n",
       "    </tr>\n",
       "    <tr>\n",
       "      <th>137</th>\n",
       "      <td>False</td>\n",
       "      <td>False</td>\n",
       "      <td>False</td>\n",
       "      <td>False</td>\n",
       "      <td>False</td>\n",
       "      <td>False</td>\n",
       "      <td>False</td>\n",
       "      <td>False</td>\n",
       "      <td>False</td>\n",
       "      <td>False</td>\n",
       "      <td>False</td>\n",
       "      <td>False</td>\n",
       "      <td>False</td>\n",
       "    </tr>\n",
       "    <tr>\n",
       "      <th>138</th>\n",
       "      <td>False</td>\n",
       "      <td>False</td>\n",
       "      <td>False</td>\n",
       "      <td>False</td>\n",
       "      <td>False</td>\n",
       "      <td>False</td>\n",
       "      <td>False</td>\n",
       "      <td>False</td>\n",
       "      <td>False</td>\n",
       "      <td>False</td>\n",
       "      <td>False</td>\n",
       "      <td>False</td>\n",
       "      <td>False</td>\n",
       "    </tr>\n",
       "  </tbody>\n",
       "</table>\n",
       "<p>139 rows × 13 columns</p>\n",
       "</div>"
      ],
      "text/plain": [
       "     Trip ID  Destination  Start date  End date  Duration (days)  \\\n",
       "0      False        False       False     False            False   \n",
       "1      False        False       False     False            False   \n",
       "2      False        False       False     False            False   \n",
       "3      False        False       False     False            False   \n",
       "4      False        False       False     False            False   \n",
       "..       ...          ...         ...       ...              ...   \n",
       "134    False        False       False     False            False   \n",
       "135    False        False       False     False            False   \n",
       "136    False        False       False     False            False   \n",
       "137    False        False       False     False            False   \n",
       "138    False        False       False     False            False   \n",
       "\n",
       "     Traveler name  Traveler age  Traveler gender  Traveler nationality  \\\n",
       "0            False         False            False                 False   \n",
       "1            False         False            False                 False   \n",
       "2            False         False            False                 False   \n",
       "3            False         False            False                 False   \n",
       "4            False         False            False                 False   \n",
       "..             ...           ...              ...                   ...   \n",
       "134          False         False            False                 False   \n",
       "135          False         False            False                 False   \n",
       "136          False         False            False                 False   \n",
       "137          False         False            False                 False   \n",
       "138          False         False            False                 False   \n",
       "\n",
       "     Accommodation type  Accommodation cost  Transportation type  \\\n",
       "0                 False               False                False   \n",
       "1                 False               False                False   \n",
       "2                 False               False                False   \n",
       "3                 False               False                False   \n",
       "4                 False               False                False   \n",
       "..                  ...                 ...                  ...   \n",
       "134               False               False                False   \n",
       "135               False               False                False   \n",
       "136               False               False                False   \n",
       "137               False               False                False   \n",
       "138               False               False                False   \n",
       "\n",
       "     Transportation cost  \n",
       "0                  False  \n",
       "1                  False  \n",
       "2                  False  \n",
       "3                  False  \n",
       "4                  False  \n",
       "..                   ...  \n",
       "134                False  \n",
       "135                False  \n",
       "136                False  \n",
       "137                False  \n",
       "138                False  \n",
       "\n",
       "[139 rows x 13 columns]"
      ]
     },
     "execution_count": 9,
     "metadata": {},
     "output_type": "execute_result"
    }
   ],
   "source": [
    "Travel.isna()"
   ]
  },
  {
   "cell_type": "code",
   "execution_count": 10,
   "id": "d0616fec",
   "metadata": {},
   "outputs": [
    {
     "data": {
      "text/html": [
       "<div>\n",
       "<style scoped>\n",
       "    .dataframe tbody tr th:only-of-type {\n",
       "        vertical-align: middle;\n",
       "    }\n",
       "\n",
       "    .dataframe tbody tr th {\n",
       "        vertical-align: top;\n",
       "    }\n",
       "\n",
       "    .dataframe thead th {\n",
       "        text-align: right;\n",
       "    }\n",
       "</style>\n",
       "<table border=\"1\" class=\"dataframe\">\n",
       "  <thead>\n",
       "    <tr style=\"text-align: right;\">\n",
       "      <th></th>\n",
       "      <th>Trip ID</th>\n",
       "      <th>Destination</th>\n",
       "      <th>Start date</th>\n",
       "      <th>End date</th>\n",
       "      <th>Duration (days)</th>\n",
       "      <th>Traveler name</th>\n",
       "      <th>Traveler age</th>\n",
       "      <th>Traveler gender</th>\n",
       "      <th>Traveler nationality</th>\n",
       "      <th>Accommodation type</th>\n",
       "      <th>Accommodation cost</th>\n",
       "      <th>Transportation type</th>\n",
       "      <th>Transportation cost</th>\n",
       "    </tr>\n",
       "  </thead>\n",
       "  <tbody>\n",
       "    <tr>\n",
       "      <th>0</th>\n",
       "      <td>False</td>\n",
       "      <td>False</td>\n",
       "      <td>False</td>\n",
       "      <td>False</td>\n",
       "      <td>False</td>\n",
       "      <td>False</td>\n",
       "      <td>False</td>\n",
       "      <td>False</td>\n",
       "      <td>False</td>\n",
       "      <td>False</td>\n",
       "      <td>False</td>\n",
       "      <td>False</td>\n",
       "      <td>False</td>\n",
       "    </tr>\n",
       "    <tr>\n",
       "      <th>1</th>\n",
       "      <td>False</td>\n",
       "      <td>False</td>\n",
       "      <td>False</td>\n",
       "      <td>False</td>\n",
       "      <td>False</td>\n",
       "      <td>False</td>\n",
       "      <td>False</td>\n",
       "      <td>False</td>\n",
       "      <td>False</td>\n",
       "      <td>False</td>\n",
       "      <td>False</td>\n",
       "      <td>False</td>\n",
       "      <td>False</td>\n",
       "    </tr>\n",
       "    <tr>\n",
       "      <th>2</th>\n",
       "      <td>False</td>\n",
       "      <td>False</td>\n",
       "      <td>False</td>\n",
       "      <td>False</td>\n",
       "      <td>False</td>\n",
       "      <td>False</td>\n",
       "      <td>False</td>\n",
       "      <td>False</td>\n",
       "      <td>False</td>\n",
       "      <td>False</td>\n",
       "      <td>False</td>\n",
       "      <td>False</td>\n",
       "      <td>False</td>\n",
       "    </tr>\n",
       "    <tr>\n",
       "      <th>3</th>\n",
       "      <td>False</td>\n",
       "      <td>False</td>\n",
       "      <td>False</td>\n",
       "      <td>False</td>\n",
       "      <td>False</td>\n",
       "      <td>False</td>\n",
       "      <td>False</td>\n",
       "      <td>False</td>\n",
       "      <td>False</td>\n",
       "      <td>False</td>\n",
       "      <td>False</td>\n",
       "      <td>False</td>\n",
       "      <td>False</td>\n",
       "    </tr>\n",
       "    <tr>\n",
       "      <th>4</th>\n",
       "      <td>False</td>\n",
       "      <td>False</td>\n",
       "      <td>False</td>\n",
       "      <td>False</td>\n",
       "      <td>False</td>\n",
       "      <td>False</td>\n",
       "      <td>False</td>\n",
       "      <td>False</td>\n",
       "      <td>False</td>\n",
       "      <td>False</td>\n",
       "      <td>False</td>\n",
       "      <td>False</td>\n",
       "      <td>False</td>\n",
       "    </tr>\n",
       "    <tr>\n",
       "      <th>...</th>\n",
       "      <td>...</td>\n",
       "      <td>...</td>\n",
       "      <td>...</td>\n",
       "      <td>...</td>\n",
       "      <td>...</td>\n",
       "      <td>...</td>\n",
       "      <td>...</td>\n",
       "      <td>...</td>\n",
       "      <td>...</td>\n",
       "      <td>...</td>\n",
       "      <td>...</td>\n",
       "      <td>...</td>\n",
       "      <td>...</td>\n",
       "    </tr>\n",
       "    <tr>\n",
       "      <th>134</th>\n",
       "      <td>False</td>\n",
       "      <td>False</td>\n",
       "      <td>False</td>\n",
       "      <td>False</td>\n",
       "      <td>False</td>\n",
       "      <td>False</td>\n",
       "      <td>False</td>\n",
       "      <td>False</td>\n",
       "      <td>False</td>\n",
       "      <td>False</td>\n",
       "      <td>False</td>\n",
       "      <td>False</td>\n",
       "      <td>False</td>\n",
       "    </tr>\n",
       "    <tr>\n",
       "      <th>135</th>\n",
       "      <td>False</td>\n",
       "      <td>False</td>\n",
       "      <td>False</td>\n",
       "      <td>False</td>\n",
       "      <td>False</td>\n",
       "      <td>False</td>\n",
       "      <td>False</td>\n",
       "      <td>False</td>\n",
       "      <td>False</td>\n",
       "      <td>False</td>\n",
       "      <td>False</td>\n",
       "      <td>False</td>\n",
       "      <td>False</td>\n",
       "    </tr>\n",
       "    <tr>\n",
       "      <th>136</th>\n",
       "      <td>False</td>\n",
       "      <td>False</td>\n",
       "      <td>False</td>\n",
       "      <td>False</td>\n",
       "      <td>False</td>\n",
       "      <td>False</td>\n",
       "      <td>False</td>\n",
       "      <td>False</td>\n",
       "      <td>False</td>\n",
       "      <td>False</td>\n",
       "      <td>False</td>\n",
       "      <td>False</td>\n",
       "      <td>False</td>\n",
       "    </tr>\n",
       "    <tr>\n",
       "      <th>137</th>\n",
       "      <td>False</td>\n",
       "      <td>False</td>\n",
       "      <td>False</td>\n",
       "      <td>False</td>\n",
       "      <td>False</td>\n",
       "      <td>False</td>\n",
       "      <td>False</td>\n",
       "      <td>False</td>\n",
       "      <td>False</td>\n",
       "      <td>False</td>\n",
       "      <td>False</td>\n",
       "      <td>False</td>\n",
       "      <td>False</td>\n",
       "    </tr>\n",
       "    <tr>\n",
       "      <th>138</th>\n",
       "      <td>False</td>\n",
       "      <td>False</td>\n",
       "      <td>False</td>\n",
       "      <td>False</td>\n",
       "      <td>False</td>\n",
       "      <td>False</td>\n",
       "      <td>False</td>\n",
       "      <td>False</td>\n",
       "      <td>False</td>\n",
       "      <td>False</td>\n",
       "      <td>False</td>\n",
       "      <td>False</td>\n",
       "      <td>False</td>\n",
       "    </tr>\n",
       "  </tbody>\n",
       "</table>\n",
       "<p>139 rows × 13 columns</p>\n",
       "</div>"
      ],
      "text/plain": [
       "     Trip ID  Destination  Start date  End date  Duration (days)  \\\n",
       "0      False        False       False     False            False   \n",
       "1      False        False       False     False            False   \n",
       "2      False        False       False     False            False   \n",
       "3      False        False       False     False            False   \n",
       "4      False        False       False     False            False   \n",
       "..       ...          ...         ...       ...              ...   \n",
       "134    False        False       False     False            False   \n",
       "135    False        False       False     False            False   \n",
       "136    False        False       False     False            False   \n",
       "137    False        False       False     False            False   \n",
       "138    False        False       False     False            False   \n",
       "\n",
       "     Traveler name  Traveler age  Traveler gender  Traveler nationality  \\\n",
       "0            False         False            False                 False   \n",
       "1            False         False            False                 False   \n",
       "2            False         False            False                 False   \n",
       "3            False         False            False                 False   \n",
       "4            False         False            False                 False   \n",
       "..             ...           ...              ...                   ...   \n",
       "134          False         False            False                 False   \n",
       "135          False         False            False                 False   \n",
       "136          False         False            False                 False   \n",
       "137          False         False            False                 False   \n",
       "138          False         False            False                 False   \n",
       "\n",
       "     Accommodation type  Accommodation cost  Transportation type  \\\n",
       "0                 False               False                False   \n",
       "1                 False               False                False   \n",
       "2                 False               False                False   \n",
       "3                 False               False                False   \n",
       "4                 False               False                False   \n",
       "..                  ...                 ...                  ...   \n",
       "134               False               False                False   \n",
       "135               False               False                False   \n",
       "136               False               False                False   \n",
       "137               False               False                False   \n",
       "138               False               False                False   \n",
       "\n",
       "     Transportation cost  \n",
       "0                  False  \n",
       "1                  False  \n",
       "2                  False  \n",
       "3                  False  \n",
       "4                  False  \n",
       "..                   ...  \n",
       "134                False  \n",
       "135                False  \n",
       "136                False  \n",
       "137                False  \n",
       "138                False  \n",
       "\n",
       "[139 rows x 13 columns]"
      ]
     },
     "execution_count": 10,
     "metadata": {},
     "output_type": "execute_result"
    }
   ],
   "source": [
    "Travel.isnull()"
   ]
  },
  {
   "cell_type": "code",
   "execution_count": 11,
   "id": "4bd4a772",
   "metadata": {},
   "outputs": [
    {
     "data": {
      "text/plain": [
       "Trip ID                 False\n",
       "Destination              True\n",
       "Start date               True\n",
       "End date                 True\n",
       "Duration (days)          True\n",
       "Traveler name            True\n",
       "Traveler age             True\n",
       "Traveler gender          True\n",
       "Traveler nationality     True\n",
       "Accommodation type       True\n",
       "Accommodation cost       True\n",
       "Transportation type      True\n",
       "Transportation cost      True\n",
       "dtype: bool"
      ]
     },
     "execution_count": 11,
     "metadata": {},
     "output_type": "execute_result"
    }
   ],
   "source": [
    "Travel.isnull().any()"
   ]
  },
  {
   "cell_type": "code",
   "execution_count": 12,
   "id": "14c17f30",
   "metadata": {},
   "outputs": [
    {
     "data": {
      "text/plain": [
       "True"
      ]
     },
     "execution_count": 12,
     "metadata": {},
     "output_type": "execute_result"
    }
   ],
   "source": [
    "Travel.isnull().any().any()"
   ]
  },
  {
   "cell_type": "code",
   "execution_count": 13,
   "id": "d482ae7a",
   "metadata": {},
   "outputs": [
    {
     "data": {
      "text/plain": [
       "Trip ID                 0\n",
       "Destination             2\n",
       "Start date              2\n",
       "End date                2\n",
       "Duration (days)         2\n",
       "Traveler name           2\n",
       "Traveler age            2\n",
       "Traveler gender         2\n",
       "Traveler nationality    2\n",
       "Accommodation type      2\n",
       "Accommodation cost      2\n",
       "Transportation type     3\n",
       "Transportation cost     3\n",
       "dtype: int64"
      ]
     },
     "execution_count": 13,
     "metadata": {},
     "output_type": "execute_result"
    }
   ],
   "source": [
    "Travel.isnull().sum()"
   ]
  },
  {
   "cell_type": "code",
   "execution_count": 14,
   "id": "9ee25e9c",
   "metadata": {},
   "outputs": [
    {
     "data": {
      "text/plain": [
       "Trip ID                 0\n",
       "Destination             2\n",
       "Start date              2\n",
       "End date                2\n",
       "Duration (days)         2\n",
       "Traveler name           2\n",
       "Traveler age            2\n",
       "Traveler gender         2\n",
       "Traveler nationality    2\n",
       "Accommodation type      2\n",
       "Accommodation cost      2\n",
       "Transportation type     3\n",
       "Transportation cost     3\n",
       "dtype: int64"
      ]
     },
     "execution_count": 14,
     "metadata": {},
     "output_type": "execute_result"
    }
   ],
   "source": [
    "Travel.isna().sum()"
   ]
  },
  {
   "cell_type": "code",
   "execution_count": 15,
   "id": "f6a7f44a",
   "metadata": {},
   "outputs": [],
   "source": [
    "## T = Travel.convert_dtypes() \n",
    "## T.dtypes"
   ]
  },
  {
   "cell_type": "code",
   "execution_count": 16,
   "id": "78b7d648",
   "metadata": {},
   "outputs": [
    {
     "data": {
      "text/plain": [
       "Trip ID                   int64\n",
       "Destination              object\n",
       "Start date               object\n",
       "End date                 object\n",
       "Duration (days)         float64\n",
       "Traveler name            object\n",
       "Traveler age            float64\n",
       "Traveler gender          object\n",
       "Traveler nationality     object\n",
       "Accommodation type       object\n",
       "Accommodation cost       object\n",
       "Transportation type      object\n",
       "Transportation cost      object\n",
       "dtype: object"
      ]
     },
     "execution_count": 16,
     "metadata": {},
     "output_type": "execute_result"
    }
   ],
   "source": [
    "Travel.dtypes"
   ]
  },
  {
   "cell_type": "code",
   "execution_count": 17,
   "id": "3a8300a3",
   "metadata": {},
   "outputs": [
    {
     "data": {
      "text/plain": [
       "0                  London, UK\n",
       "1            Phuket, Thailand\n",
       "2             Bali, Indonesia\n",
       "3               New York, USA\n",
       "4                Tokyo, Japan\n",
       "                ...          \n",
       "134    Rio de Janeiro, Brazil\n",
       "135         Vancouver, Canada\n",
       "136         Bangkok, Thailand\n",
       "137          Barcelona, Spain\n",
       "138     Auckland, New Zealand\n",
       "Name: Destination, Length: 139, dtype: object"
      ]
     },
     "execution_count": 17,
     "metadata": {},
     "output_type": "execute_result"
    }
   ],
   "source": [
    "Travel.Destination"
   ]
  },
  {
   "cell_type": "code",
   "execution_count": 18,
   "id": "81921207",
   "metadata": {
    "scrolled": true
   },
   "outputs": [
    {
     "data": {
      "text/plain": [
       "Index(['Trip ID', 'Destination', 'Start date', 'End date', 'Duration (days)',\n",
       "       'Traveler name', 'Traveler age', 'Traveler gender',\n",
       "       'Traveler nationality', 'Accommodation type', 'Accommodation cost',\n",
       "       'Transportation type', 'Transportation cost'],\n",
       "      dtype='object')"
      ]
     },
     "execution_count": 18,
     "metadata": {},
     "output_type": "execute_result"
    }
   ],
   "source": [
    "Travel.columns"
   ]
  },
  {
   "cell_type": "code",
   "execution_count": 19,
   "id": "19b4d122",
   "metadata": {},
   "outputs": [
    {
     "data": {
      "text/plain": [
       "0      False\n",
       "1      False\n",
       "2      False\n",
       "3      False\n",
       "4      False\n",
       "       ...  \n",
       "134    False\n",
       "135    False\n",
       "136    False\n",
       "137    False\n",
       "138    False\n",
       "Length: 139, dtype: bool"
      ]
     },
     "execution_count": 19,
     "metadata": {},
     "output_type": "execute_result"
    }
   ],
   "source": [
    "Travel.duplicated()"
   ]
  },
  {
   "cell_type": "code",
   "execution_count": 20,
   "id": "3c8565af",
   "metadata": {},
   "outputs": [
    {
     "data": {
      "text/plain": [
       "0        Flight\n",
       "1        Flight\n",
       "2        Flight\n",
       "3        Flight\n",
       "4         Train\n",
       "         ...   \n",
       "134         Car\n",
       "135    Airplane\n",
       "136       Train\n",
       "137    Airplane\n",
       "138       Train\n",
       "Name: Transportation type, Length: 139, dtype: object"
      ]
     },
     "execution_count": 20,
     "metadata": {},
     "output_type": "execute_result"
    }
   ],
   "source": [
    "Travel['Transportation type']"
   ]
  },
  {
   "cell_type": "code",
   "execution_count": 21,
   "id": "caa2d977",
   "metadata": {},
   "outputs": [
    {
     "data": {
      "text/plain": [
       "array(['Flight', 'Train', 'Plane', 'Bus', 'Car rental', 'Subway', nan,\n",
       "       'Car', 'Ferry', 'Airplane'], dtype=object)"
      ]
     },
     "execution_count": 21,
     "metadata": {},
     "output_type": "execute_result"
    }
   ],
   "source": [
    "Travel['Transportation type'].unique()"
   ]
  },
  {
   "cell_type": "markdown",
   "id": "ae3d2592",
   "metadata": {},
   "source": [
    "# Renaming"
   ]
  },
  {
   "cell_type": "code",
   "execution_count": 22,
   "id": "0e3da159",
   "metadata": {},
   "outputs": [
    {
     "data": {
      "text/html": [
       "<div>\n",
       "<style scoped>\n",
       "    .dataframe tbody tr th:only-of-type {\n",
       "        vertical-align: middle;\n",
       "    }\n",
       "\n",
       "    .dataframe tbody tr th {\n",
       "        vertical-align: top;\n",
       "    }\n",
       "\n",
       "    .dataframe thead th {\n",
       "        text-align: right;\n",
       "    }\n",
       "</style>\n",
       "<table border=\"1\" class=\"dataframe\">\n",
       "  <thead>\n",
       "    <tr style=\"text-align: right;\">\n",
       "      <th></th>\n",
       "      <th>Trip ID</th>\n",
       "      <th>Destination</th>\n",
       "      <th>Start</th>\n",
       "      <th>End</th>\n",
       "      <th>Duration</th>\n",
       "      <th>name</th>\n",
       "      <th>age</th>\n",
       "      <th>gender</th>\n",
       "      <th>nationality</th>\n",
       "      <th>Accommodation type</th>\n",
       "      <th>Accommodation cost</th>\n",
       "      <th>Transportation type</th>\n",
       "      <th>Transportation cost</th>\n",
       "    </tr>\n",
       "  </thead>\n",
       "  <tbody>\n",
       "    <tr>\n",
       "      <th>0</th>\n",
       "      <td>1</td>\n",
       "      <td>London, UK</td>\n",
       "      <td>5/1/2023</td>\n",
       "      <td>5/8/2023</td>\n",
       "      <td>7.0</td>\n",
       "      <td>John Smith</td>\n",
       "      <td>35.0</td>\n",
       "      <td>Male</td>\n",
       "      <td>American</td>\n",
       "      <td>Hotel</td>\n",
       "      <td>1200</td>\n",
       "      <td>Flight</td>\n",
       "      <td>600</td>\n",
       "    </tr>\n",
       "    <tr>\n",
       "      <th>1</th>\n",
       "      <td>2</td>\n",
       "      <td>Phuket, Thailand</td>\n",
       "      <td>6/15/2023</td>\n",
       "      <td>6/20/2023</td>\n",
       "      <td>5.0</td>\n",
       "      <td>Jane Doe</td>\n",
       "      <td>28.0</td>\n",
       "      <td>Female</td>\n",
       "      <td>Canadian</td>\n",
       "      <td>Resort</td>\n",
       "      <td>800</td>\n",
       "      <td>Flight</td>\n",
       "      <td>500</td>\n",
       "    </tr>\n",
       "    <tr>\n",
       "      <th>2</th>\n",
       "      <td>3</td>\n",
       "      <td>Bali, Indonesia</td>\n",
       "      <td>7/1/2023</td>\n",
       "      <td>7/8/2023</td>\n",
       "      <td>7.0</td>\n",
       "      <td>David Lee</td>\n",
       "      <td>45.0</td>\n",
       "      <td>Male</td>\n",
       "      <td>Korean</td>\n",
       "      <td>Villa</td>\n",
       "      <td>1000</td>\n",
       "      <td>Flight</td>\n",
       "      <td>700</td>\n",
       "    </tr>\n",
       "    <tr>\n",
       "      <th>3</th>\n",
       "      <td>4</td>\n",
       "      <td>New York, USA</td>\n",
       "      <td>8/15/2023</td>\n",
       "      <td>8/29/2023</td>\n",
       "      <td>14.0</td>\n",
       "      <td>Sarah Johnson</td>\n",
       "      <td>29.0</td>\n",
       "      <td>Female</td>\n",
       "      <td>British</td>\n",
       "      <td>Hotel</td>\n",
       "      <td>2000</td>\n",
       "      <td>Flight</td>\n",
       "      <td>1000</td>\n",
       "    </tr>\n",
       "    <tr>\n",
       "      <th>4</th>\n",
       "      <td>5</td>\n",
       "      <td>Tokyo, Japan</td>\n",
       "      <td>9/10/2023</td>\n",
       "      <td>9/17/2023</td>\n",
       "      <td>7.0</td>\n",
       "      <td>Kim Nguyen</td>\n",
       "      <td>26.0</td>\n",
       "      <td>Female</td>\n",
       "      <td>Vietnamese</td>\n",
       "      <td>Airbnb</td>\n",
       "      <td>700</td>\n",
       "      <td>Train</td>\n",
       "      <td>200</td>\n",
       "    </tr>\n",
       "  </tbody>\n",
       "</table>\n",
       "</div>"
      ],
      "text/plain": [
       "   Trip ID       Destination      Start        End  Duration           name  \\\n",
       "0        1        London, UK   5/1/2023   5/8/2023       7.0     John Smith   \n",
       "1        2  Phuket, Thailand  6/15/2023  6/20/2023       5.0       Jane Doe   \n",
       "2        3   Bali, Indonesia   7/1/2023   7/8/2023       7.0      David Lee   \n",
       "3        4     New York, USA  8/15/2023  8/29/2023      14.0  Sarah Johnson   \n",
       "4        5      Tokyo, Japan  9/10/2023  9/17/2023       7.0     Kim Nguyen   \n",
       "\n",
       "    age  gender nationality Accommodation type Accommodation cost  \\\n",
       "0  35.0    Male    American              Hotel               1200   \n",
       "1  28.0  Female    Canadian             Resort                800   \n",
       "2  45.0    Male      Korean              Villa               1000   \n",
       "3  29.0  Female     British              Hotel               2000   \n",
       "4  26.0  Female  Vietnamese             Airbnb                700   \n",
       "\n",
       "  Transportation type Transportation cost  \n",
       "0              Flight                 600  \n",
       "1              Flight                 500  \n",
       "2              Flight                 700  \n",
       "3              Flight                1000  \n",
       "4               Train                 200  "
      ]
     },
     "execution_count": 22,
     "metadata": {},
     "output_type": "execute_result"
    }
   ],
   "source": [
    "Travel.rename(columns={'Start date':'Start','End date':'End','Duration (days)':'Duration','Traveler name':'name','Traveler age':'age','Traveler gender':'gender','Traveler nationality':'nationality'},inplace=True)\n",
    "Travel.head()"
   ]
  },
  {
   "cell_type": "code",
   "execution_count": 23,
   "id": "9da696b0",
   "metadata": {},
   "outputs": [],
   "source": [
    "Travel.rename(columns={'Accommodation cost': \"AccomadationCost\", 'Transportation cost' : 'TransportationCost'}, inplace = True)"
   ]
  },
  {
   "cell_type": "code",
   "execution_count": 24,
   "id": "a5f02750",
   "metadata": {},
   "outputs": [
    {
     "data": {
      "text/plain": [
       "Index(['Trip ID', 'Destination', 'Start', 'End', 'Duration', 'name', 'age',\n",
       "       'gender', 'nationality', 'Accommodation type', 'AccomadationCost',\n",
       "       'Transportation type', 'TransportationCost'],\n",
       "      dtype='object')"
      ]
     },
     "execution_count": 24,
     "metadata": {},
     "output_type": "execute_result"
    }
   ],
   "source": [
    "Travel.columns"
   ]
  },
  {
   "cell_type": "markdown",
   "id": "6c55402c",
   "metadata": {},
   "source": [
    "# Data Cleaning"
   ]
  },
  {
   "cell_type": "code",
   "execution_count": 25,
   "id": "bb6989c2",
   "metadata": {},
   "outputs": [],
   "source": [
    "Travel['Start'] = pd.to_datetime(Travel['Start'])"
   ]
  },
  {
   "cell_type": "code",
   "execution_count": 26,
   "id": "6d4c83e9",
   "metadata": {},
   "outputs": [
    {
     "data": {
      "text/plain": [
       "dtype('<M8[ns]')"
      ]
     },
     "execution_count": 26,
     "metadata": {},
     "output_type": "execute_result"
    }
   ],
   "source": [
    "Travel['Start'].dtype"
   ]
  },
  {
   "cell_type": "code",
   "execution_count": 27,
   "id": "9248cf22",
   "metadata": {},
   "outputs": [
    {
     "data": {
      "text/plain": [
       "Trip ID                         int64\n",
       "Destination                    object\n",
       "Start                  datetime64[ns]\n",
       "End                            object\n",
       "Duration                      float64\n",
       "name                           object\n",
       "age                           float64\n",
       "gender                         object\n",
       "nationality                    object\n",
       "Accommodation type             object\n",
       "AccomadationCost               object\n",
       "Transportation type            object\n",
       "TransportationCost             object\n",
       "dtype: object"
      ]
     },
     "execution_count": 27,
     "metadata": {},
     "output_type": "execute_result"
    }
   ],
   "source": [
    "Travel.dtypes"
   ]
  },
  {
   "cell_type": "code",
   "execution_count": 28,
   "id": "79057fb2",
   "metadata": {},
   "outputs": [],
   "source": [
    "Travel['End'] = pd.to_datetime(Travel['End'])"
   ]
  },
  {
   "cell_type": "code",
   "execution_count": 29,
   "id": "4da35f07",
   "metadata": {},
   "outputs": [
    {
     "data": {
      "text/plain": [
       "Trip ID                         int64\n",
       "Destination                    object\n",
       "Start                  datetime64[ns]\n",
       "End                    datetime64[ns]\n",
       "Duration                      float64\n",
       "name                           object\n",
       "age                           float64\n",
       "gender                         object\n",
       "nationality                    object\n",
       "Accommodation type             object\n",
       "AccomadationCost               object\n",
       "Transportation type            object\n",
       "TransportationCost             object\n",
       "dtype: object"
      ]
     },
     "execution_count": 29,
     "metadata": {},
     "output_type": "execute_result"
    }
   ],
   "source": [
    "Travel.dtypes"
   ]
  },
  {
   "cell_type": "code",
   "execution_count": 30,
   "id": "260beb3c",
   "metadata": {},
   "outputs": [
    {
     "name": "stderr",
     "output_type": "stream",
     "text": [
      "C:\\Users\\shrut\\AppData\\Local\\Temp\\ipykernel_15772\\2913066824.py:1: FutureWarning: The default value of regex will change from True to False in a future version. In addition, single character regular expressions will *not* be treated as literal strings when regex=True.\n",
      "  Travel['AccomadationCost'] = Travel['AccomadationCost'].str.replace(',','').str.replace('$','').str.replace(' USD','').astype(float)\n"
     ]
    }
   ],
   "source": [
    "Travel['AccomadationCost'] = Travel['AccomadationCost'].str.replace(',','').str.replace('$','').str.replace(' USD','').astype(float)\n"
   ]
  },
  {
   "cell_type": "code",
   "execution_count": 31,
   "id": "d53bbc02",
   "metadata": {},
   "outputs": [
    {
     "data": {
      "text/plain": [
       "0      1200.0\n",
       "1       800.0\n",
       "2      1000.0\n",
       "3      2000.0\n",
       "4       700.0\n",
       "        ...  \n",
       "134    2500.0\n",
       "135    5000.0\n",
       "136    2000.0\n",
       "137    6000.0\n",
       "138    7000.0\n",
       "Name: AccomadationCost, Length: 139, dtype: float64"
      ]
     },
     "execution_count": 31,
     "metadata": {},
     "output_type": "execute_result"
    }
   ],
   "source": [
    "Travel['AccomadationCost'].head(1000)"
   ]
  },
  {
   "cell_type": "code",
   "execution_count": 32,
   "id": "240d8f91",
   "metadata": {},
   "outputs": [
    {
     "name": "stderr",
     "output_type": "stream",
     "text": [
      "C:\\Users\\shrut\\AppData\\Local\\Temp\\ipykernel_15772\\4218056436.py:1: FutureWarning: The default value of regex will change from True to False in a future version. In addition, single character regular expressions will *not* be treated as literal strings when regex=True.\n",
      "  Travel['TransportationCost'] = Travel['TransportationCost'].str.replace(',','').str.replace('$','').str.replace(' USD','').astype(float)\n"
     ]
    }
   ],
   "source": [
    "Travel['TransportationCost'] = Travel['TransportationCost'].str.replace(',','').str.replace('$','').str.replace(' USD','').astype(float)"
   ]
  },
  {
   "cell_type": "code",
   "execution_count": 33,
   "id": "3683445c",
   "metadata": {},
   "outputs": [
    {
     "data": {
      "text/plain": [
       "0       600.0\n",
       "1       500.0\n",
       "2       700.0\n",
       "3      1000.0\n",
       "4       200.0\n",
       "        ...  \n",
       "134    2000.0\n",
       "135    3000.0\n",
       "136    1000.0\n",
       "137    2500.0\n",
       "138    2500.0\n",
       "Name: TransportationCost, Length: 139, dtype: float64"
      ]
     },
     "execution_count": 33,
     "metadata": {},
     "output_type": "execute_result"
    }
   ],
   "source": [
    "Travel['TransportationCost']"
   ]
  },
  {
   "cell_type": "code",
   "execution_count": 34,
   "id": "e7ec9acb",
   "metadata": {},
   "outputs": [
    {
     "data": {
      "text/plain": [
       "Trip ID                         int64\n",
       "Destination                    object\n",
       "Start                  datetime64[ns]\n",
       "End                    datetime64[ns]\n",
       "Duration                      float64\n",
       "name                           object\n",
       "age                           float64\n",
       "gender                         object\n",
       "nationality                    object\n",
       "Accommodation type             object\n",
       "AccomadationCost              float64\n",
       "Transportation type            object\n",
       "TransportationCost            float64\n",
       "dtype: object"
      ]
     },
     "execution_count": 34,
     "metadata": {},
     "output_type": "execute_result"
    }
   ],
   "source": [
    "Travel.dtypes"
   ]
  },
  {
   "cell_type": "code",
   "execution_count": 35,
   "id": "889bb1a0",
   "metadata": {},
   "outputs": [
    {
     "name": "stdout",
     "output_type": "stream",
     "text": [
      "<class 'pandas.core.frame.DataFrame'>\n",
      "RangeIndex: 139 entries, 0 to 138\n",
      "Data columns (total 13 columns):\n",
      " #   Column               Non-Null Count  Dtype         \n",
      "---  ------               --------------  -----         \n",
      " 0   Trip ID              139 non-null    int64         \n",
      " 1   Destination          137 non-null    object        \n",
      " 2   Start                137 non-null    datetime64[ns]\n",
      " 3   End                  137 non-null    datetime64[ns]\n",
      " 4   Duration             137 non-null    float64       \n",
      " 5   name                 137 non-null    object        \n",
      " 6   age                  137 non-null    float64       \n",
      " 7   gender               137 non-null    object        \n",
      " 8   nationality          137 non-null    object        \n",
      " 9   Accommodation type   137 non-null    object        \n",
      " 10  AccomadationCost     137 non-null    float64       \n",
      " 11  Transportation type  136 non-null    object        \n",
      " 12  TransportationCost   136 non-null    float64       \n",
      "dtypes: datetime64[ns](2), float64(4), int64(1), object(6)\n",
      "memory usage: 14.2+ KB\n"
     ]
    }
   ],
   "source": [
    "Travel.info()"
   ]
  },
  {
   "cell_type": "markdown",
   "id": "e9a4fd3d",
   "metadata": {},
   "source": [
    "# Removing nan values"
   ]
  },
  {
   "cell_type": "code",
   "execution_count": 36,
   "id": "6394704e",
   "metadata": {},
   "outputs": [
    {
     "data": {
      "text/plain": [
       "Trip ID                0\n",
       "Destination            2\n",
       "Start                  2\n",
       "End                    2\n",
       "Duration               2\n",
       "name                   2\n",
       "age                    2\n",
       "gender                 2\n",
       "nationality            2\n",
       "Accommodation type     2\n",
       "AccomadationCost       2\n",
       "Transportation type    3\n",
       "TransportationCost     3\n",
       "dtype: int64"
      ]
     },
     "execution_count": 36,
     "metadata": {},
     "output_type": "execute_result"
    }
   ],
   "source": [
    "Travel.isna().sum()"
   ]
  },
  {
   "cell_type": "code",
   "execution_count": 37,
   "id": "9bf6f17c",
   "metadata": {},
   "outputs": [],
   "source": [
    "Travel.dropna(inplace= True)"
   ]
  },
  {
   "cell_type": "code",
   "execution_count": 38,
   "id": "d7986942",
   "metadata": {},
   "outputs": [
    {
     "data": {
      "text/plain": [
       "Trip ID                0\n",
       "Destination            0\n",
       "Start                  0\n",
       "End                    0\n",
       "Duration               0\n",
       "name                   0\n",
       "age                    0\n",
       "gender                 0\n",
       "nationality            0\n",
       "Accommodation type     0\n",
       "AccomadationCost       0\n",
       "Transportation type    0\n",
       "TransportationCost     0\n",
       "dtype: int64"
      ]
     },
     "execution_count": 38,
     "metadata": {},
     "output_type": "execute_result"
    }
   ],
   "source": [
    "Travel.isna().sum()"
   ]
  },
  {
   "cell_type": "code",
   "execution_count": 39,
   "id": "03489a4a",
   "metadata": {},
   "outputs": [
    {
     "data": {
      "text/plain": [
       "Trip ID                0\n",
       "Destination            0\n",
       "Start                  0\n",
       "End                    0\n",
       "Duration               0\n",
       "name                   0\n",
       "age                    0\n",
       "gender                 0\n",
       "nationality            0\n",
       "Accommodation type     0\n",
       "AccomadationCost       0\n",
       "Transportation type    0\n",
       "TransportationCost     0\n",
       "dtype: int64"
      ]
     },
     "execution_count": 39,
     "metadata": {},
     "output_type": "execute_result"
    }
   ],
   "source": [
    "Travel.isnull().sum()"
   ]
  },
  {
   "cell_type": "markdown",
   "id": "c2feb559",
   "metadata": {},
   "source": [
    "# Separting country and city"
   ]
  },
  {
   "cell_type": "code",
   "execution_count": 40,
   "id": "45a92d31",
   "metadata": {},
   "outputs": [],
   "source": [
    "Travel['City'] = Travel['Destination'].str.split(',').str[0]"
   ]
  },
  {
   "cell_type": "code",
   "execution_count": 41,
   "id": "3245ffce",
   "metadata": {},
   "outputs": [
    {
     "data": {
      "text/plain": [
       "0              London\n",
       "1              Phuket\n",
       "2                Bali\n",
       "3            New York\n",
       "4               Tokyo\n",
       "            ...      \n",
       "134    Rio de Janeiro\n",
       "135         Vancouver\n",
       "136           Bangkok\n",
       "137         Barcelona\n",
       "138          Auckland\n",
       "Name: City, Length: 136, dtype: object"
      ]
     },
     "execution_count": 41,
     "metadata": {},
     "output_type": "execute_result"
    }
   ],
   "source": [
    "Travel['City']"
   ]
  },
  {
   "cell_type": "code",
   "execution_count": 42,
   "id": "566fdff6",
   "metadata": {},
   "outputs": [],
   "source": [
    "Travel['Country'] = Travel['Destination'].str.split(',').str[1]"
   ]
  },
  {
   "cell_type": "code",
   "execution_count": 43,
   "id": "1157f99c",
   "metadata": {},
   "outputs": [
    {
     "data": {
      "text/plain": [
       "0                UK\n",
       "1          Thailand\n",
       "2         Indonesia\n",
       "3               USA\n",
       "4             Japan\n",
       "           ...     \n",
       "134          Brazil\n",
       "135          Canada\n",
       "136        Thailand\n",
       "137           Spain\n",
       "138     New Zealand\n",
       "Name: Country, Length: 136, dtype: object"
      ]
     },
     "execution_count": 43,
     "metadata": {},
     "output_type": "execute_result"
    }
   ],
   "source": [
    "Travel.Country"
   ]
  },
  {
   "cell_type": "code",
   "execution_count": 44,
   "id": "4a2bae0f",
   "metadata": {},
   "outputs": [
    {
     "data": {
      "text/plain": [
       "Index(['Trip ID', 'Destination', 'Start', 'End', 'Duration', 'name', 'age',\n",
       "       'gender', 'nationality', 'Accommodation type', 'AccomadationCost',\n",
       "       'Transportation type', 'TransportationCost', 'City', 'Country'],\n",
       "      dtype='object')"
      ]
     },
     "execution_count": 44,
     "metadata": {},
     "output_type": "execute_result"
    }
   ],
   "source": [
    "Travel.columns"
   ]
  },
  {
   "cell_type": "markdown",
   "id": "9a734b99",
   "metadata": {},
   "source": [
    "# Removing Destination"
   ]
  },
  {
   "cell_type": "code",
   "execution_count": 45,
   "id": "f192cf2c",
   "metadata": {},
   "outputs": [],
   "source": [
    "Travel = Travel.drop('Destination',axis = 1)"
   ]
  },
  {
   "cell_type": "code",
   "execution_count": 46,
   "id": "0524f2c2",
   "metadata": {},
   "outputs": [
    {
     "data": {
      "text/plain": [
       "Index(['Trip ID', 'Start', 'End', 'Duration', 'name', 'age', 'gender',\n",
       "       'nationality', 'Accommodation type', 'AccomadationCost',\n",
       "       'Transportation type', 'TransportationCost', 'City', 'Country'],\n",
       "      dtype='object')"
      ]
     },
     "execution_count": 46,
     "metadata": {},
     "output_type": "execute_result"
    }
   ],
   "source": [
    "Travel.columns"
   ]
  },
  {
   "cell_type": "markdown",
   "id": "783bfad5",
   "metadata": {},
   "source": [
    "# Changing Column Values"
   ]
  },
  {
   "cell_type": "code",
   "execution_count": 47,
   "id": "764cf473",
   "metadata": {},
   "outputs": [
    {
     "data": {
      "text/plain": [
       "array(['Flight', 'Train', 'Plane', 'Bus', 'Car rental', 'Subway', 'Car',\n",
       "       'Ferry', 'Airplane'], dtype=object)"
      ]
     },
     "execution_count": 47,
     "metadata": {},
     "output_type": "execute_result"
    }
   ],
   "source": [
    "Travel['Transportation type'].unique()"
   ]
  },
  {
   "cell_type": "code",
   "execution_count": 48,
   "id": "2b3de0fc",
   "metadata": {},
   "outputs": [],
   "source": [
    "Travel['Transportation type'] = Travel['Transportation type'].replace({'Flight':'Plane','Airplane':'Plane'})"
   ]
  },
  {
   "cell_type": "code",
   "execution_count": 49,
   "id": "2de56dcc",
   "metadata": {},
   "outputs": [
    {
     "data": {
      "text/plain": [
       "array(['Plane', 'Train', 'Bus', 'Car rental', 'Subway', 'Car', 'Ferry'],\n",
       "      dtype=object)"
      ]
     },
     "execution_count": 49,
     "metadata": {},
     "output_type": "execute_result"
    }
   ],
   "source": [
    "Travel['Transportation type'].unique()"
   ]
  },
  {
   "cell_type": "code",
   "execution_count": 50,
   "id": "c2708268",
   "metadata": {},
   "outputs": [
    {
     "data": {
      "text/html": [
       "<div>\n",
       "<style scoped>\n",
       "    .dataframe tbody tr th:only-of-type {\n",
       "        vertical-align: middle;\n",
       "    }\n",
       "\n",
       "    .dataframe tbody tr th {\n",
       "        vertical-align: top;\n",
       "    }\n",
       "\n",
       "    .dataframe thead th {\n",
       "        text-align: right;\n",
       "    }\n",
       "</style>\n",
       "<table border=\"1\" class=\"dataframe\">\n",
       "  <thead>\n",
       "    <tr style=\"text-align: right;\">\n",
       "      <th></th>\n",
       "      <th>Trip ID</th>\n",
       "      <th>Start</th>\n",
       "      <th>End</th>\n",
       "      <th>Duration</th>\n",
       "      <th>name</th>\n",
       "      <th>age</th>\n",
       "      <th>gender</th>\n",
       "      <th>nationality</th>\n",
       "      <th>Accommodation type</th>\n",
       "      <th>AccomadationCost</th>\n",
       "      <th>Transportation type</th>\n",
       "      <th>TransportationCost</th>\n",
       "      <th>City</th>\n",
       "      <th>Country</th>\n",
       "    </tr>\n",
       "  </thead>\n",
       "  <tbody>\n",
       "    <tr>\n",
       "      <th>0</th>\n",
       "      <td>1</td>\n",
       "      <td>2023-05-01</td>\n",
       "      <td>2023-05-08</td>\n",
       "      <td>7.0</td>\n",
       "      <td>John Smith</td>\n",
       "      <td>35.0</td>\n",
       "      <td>Male</td>\n",
       "      <td>American</td>\n",
       "      <td>Hotel</td>\n",
       "      <td>1200.0</td>\n",
       "      <td>Plane</td>\n",
       "      <td>600.0</td>\n",
       "      <td>London</td>\n",
       "      <td>UK</td>\n",
       "    </tr>\n",
       "    <tr>\n",
       "      <th>1</th>\n",
       "      <td>2</td>\n",
       "      <td>2023-06-15</td>\n",
       "      <td>2023-06-20</td>\n",
       "      <td>5.0</td>\n",
       "      <td>Jane Doe</td>\n",
       "      <td>28.0</td>\n",
       "      <td>Female</td>\n",
       "      <td>Canadian</td>\n",
       "      <td>Resort</td>\n",
       "      <td>800.0</td>\n",
       "      <td>Plane</td>\n",
       "      <td>500.0</td>\n",
       "      <td>Phuket</td>\n",
       "      <td>Thailand</td>\n",
       "    </tr>\n",
       "    <tr>\n",
       "      <th>2</th>\n",
       "      <td>3</td>\n",
       "      <td>2023-07-01</td>\n",
       "      <td>2023-07-08</td>\n",
       "      <td>7.0</td>\n",
       "      <td>David Lee</td>\n",
       "      <td>45.0</td>\n",
       "      <td>Male</td>\n",
       "      <td>Korean</td>\n",
       "      <td>Villa</td>\n",
       "      <td>1000.0</td>\n",
       "      <td>Plane</td>\n",
       "      <td>700.0</td>\n",
       "      <td>Bali</td>\n",
       "      <td>Indonesia</td>\n",
       "    </tr>\n",
       "    <tr>\n",
       "      <th>3</th>\n",
       "      <td>4</td>\n",
       "      <td>2023-08-15</td>\n",
       "      <td>2023-08-29</td>\n",
       "      <td>14.0</td>\n",
       "      <td>Sarah Johnson</td>\n",
       "      <td>29.0</td>\n",
       "      <td>Female</td>\n",
       "      <td>British</td>\n",
       "      <td>Hotel</td>\n",
       "      <td>2000.0</td>\n",
       "      <td>Plane</td>\n",
       "      <td>1000.0</td>\n",
       "      <td>New York</td>\n",
       "      <td>USA</td>\n",
       "    </tr>\n",
       "    <tr>\n",
       "      <th>4</th>\n",
       "      <td>5</td>\n",
       "      <td>2023-09-10</td>\n",
       "      <td>2023-09-17</td>\n",
       "      <td>7.0</td>\n",
       "      <td>Kim Nguyen</td>\n",
       "      <td>26.0</td>\n",
       "      <td>Female</td>\n",
       "      <td>Vietnamese</td>\n",
       "      <td>Airbnb</td>\n",
       "      <td>700.0</td>\n",
       "      <td>Train</td>\n",
       "      <td>200.0</td>\n",
       "      <td>Tokyo</td>\n",
       "      <td>Japan</td>\n",
       "    </tr>\n",
       "  </tbody>\n",
       "</table>\n",
       "</div>"
      ],
      "text/plain": [
       "   Trip ID      Start        End  Duration           name   age  gender  \\\n",
       "0        1 2023-05-01 2023-05-08       7.0     John Smith  35.0    Male   \n",
       "1        2 2023-06-15 2023-06-20       5.0       Jane Doe  28.0  Female   \n",
       "2        3 2023-07-01 2023-07-08       7.0      David Lee  45.0    Male   \n",
       "3        4 2023-08-15 2023-08-29      14.0  Sarah Johnson  29.0  Female   \n",
       "4        5 2023-09-10 2023-09-17       7.0     Kim Nguyen  26.0  Female   \n",
       "\n",
       "  nationality Accommodation type  AccomadationCost Transportation type  \\\n",
       "0    American              Hotel            1200.0               Plane   \n",
       "1    Canadian             Resort             800.0               Plane   \n",
       "2      Korean              Villa            1000.0               Plane   \n",
       "3     British              Hotel            2000.0               Plane   \n",
       "4  Vietnamese             Airbnb             700.0               Train   \n",
       "\n",
       "   TransportationCost      City     Country  \n",
       "0               600.0    London          UK  \n",
       "1               500.0    Phuket    Thailand  \n",
       "2               700.0      Bali   Indonesia  \n",
       "3              1000.0  New York         USA  \n",
       "4               200.0     Tokyo       Japan  "
      ]
     },
     "execution_count": 50,
     "metadata": {},
     "output_type": "execute_result"
    }
   ],
   "source": [
    "Travel.head()"
   ]
  },
  {
   "cell_type": "markdown",
   "id": "62be4144",
   "metadata": {},
   "source": [
    "# Creating dummy values for Gender"
   ]
  },
  {
   "cell_type": "code",
   "execution_count": null,
   "id": "37be49fb",
   "metadata": {},
   "outputs": [],
   "source": []
  },
  {
   "cell_type": "markdown",
   "id": "76382626",
   "metadata": {},
   "source": [
    "# Top 10 cities visited"
   ]
  },
  {
   "cell_type": "code",
   "execution_count": 51,
   "id": "c13a3de9",
   "metadata": {},
   "outputs": [
    {
     "data": {
      "text/plain": [
       "Paris             14\n",
       "Bali              12\n",
       "Tokyo             12\n",
       "Sydney            12\n",
       "New York           8\n",
       "Bangkok            8\n",
       "Rome               8\n",
       "London             7\n",
       "Barcelona          6\n",
       "Rio de Janeiro     5\n",
       "Cape Town          4\n",
       "Cancun             4\n",
       "Dubai              3\n",
       "Amsterdam          3\n",
       "Phuket             3\n",
       "New York City      2\n",
       "Seoul              2\n",
       "Vancouver          2\n",
       "Spain              1\n",
       "Canada             1\n",
       "Phnom Penh         1\n",
       "Los Angeles        1\n",
       "Santorini          1\n",
       "Mexico             1\n",
       "Athens             1\n",
       "Italy              1\n",
       "Japan              1\n",
       "Egypt              1\n",
       "Greece             1\n",
       "Brazil             1\n",
       "Australia          1\n",
       "France             1\n",
       "Thailand           1\n",
       "Hawaii             1\n",
       "Edinburgh          1\n",
       "Marrakech          1\n",
       "Berlin             1\n",
       "Honolulu           1\n",
       "Auckland           1\n",
       "Name: City, dtype: int64"
      ]
     },
     "execution_count": 51,
     "metadata": {},
     "output_type": "execute_result"
    }
   ],
   "source": [
    "Travel['City'].value_counts()"
   ]
  },
  {
   "cell_type": "code",
   "execution_count": 52,
   "id": "a5d0ddfc",
   "metadata": {},
   "outputs": [
    {
     "data": {
      "text/plain": [
       "Paris             14\n",
       "Bali              12\n",
       "Tokyo             12\n",
       "Sydney            12\n",
       "New York           8\n",
       "Bangkok            8\n",
       "Rome               8\n",
       "London             7\n",
       "Barcelona          6\n",
       "Rio de Janeiro     5\n",
       "Name: City, dtype: int64"
      ]
     },
     "execution_count": 52,
     "metadata": {},
     "output_type": "execute_result"
    }
   ],
   "source": [
    "Travel['City'].value_counts()[:10]"
   ]
  },
  {
   "cell_type": "code",
   "execution_count": 53,
   "id": "b3e5638d",
   "metadata": {},
   "outputs": [
    {
     "data": {
      "text/plain": [
       "Text(0, 0.5, 'Trips')"
      ]
     },
     "execution_count": 53,
     "metadata": {},
     "output_type": "execute_result"
    },
    {
     "data": {
      "image/png": "[encoded data removed]",
      "text/plain": [
       "<Figure size 640x480 with 1 Axes>"
      ]
     },
     "metadata": {},
     "output_type": "display_data"
    }
   ],
   "source": [
    "Travel['City'].value_counts()[:10].plot.bar()\n",
    "\n",
    "plt.title('10 most popular travel cities')\n",
    "plt.xlabel('Cities')\n",
    "plt.ylabel('Trips')\n"
   ]
  },
  {
   "cell_type": "code",
   "execution_count": 54,
   "id": "6cfb227e",
   "metadata": {},
   "outputs": [
    {
     "data": {
      "text/plain": [
       " Japan        7\n",
       " France       7\n",
       " USA          6\n",
       " Indonesia    5\n",
       " Brazil       4\n",
       " Mexico       4\n",
       " Spain        4\n",
       " Thailand     4\n",
       " UK           3\n",
       " Aus          3\n",
       "Name: Country, dtype: int64"
      ]
     },
     "execution_count": 54,
     "metadata": {},
     "output_type": "execute_result"
    }
   ],
   "source": [
    "Travel['Country'].value_counts()[:10]"
   ]
  },
  {
   "cell_type": "code",
   "execution_count": 55,
   "id": "e7fb34a6",
   "metadata": {},
   "outputs": [
    {
     "data": {
      "image/png": "[encoded data removed]",
      "text/plain": [
       "<Figure size 640x480 with 1 Axes>"
      ]
     },
     "metadata": {},
     "output_type": "display_data"
    }
   ],
   "source": [
    "Travel['Country'].value_counts()[:10].plot.bar()\n",
    "\n",
    "plt.title('10 most popular travel countries')\n",
    "plt.xlabel('Countries')\n",
    "plt.ylabel('Trips');"
   ]
  },
  {
   "cell_type": "code",
   "execution_count": 56,
   "id": "634284c8",
   "metadata": {},
   "outputs": [
    {
     "data": {
      "image/png": "[encoded data removed]",
      "text/plain": [
       "<Figure size 640x480 with 1 Axes>"
      ]
     },
     "metadata": {},
     "output_type": "display_data"
    }
   ],
   "source": [
    "sns.countplot(data=Travel ,x=Travel['age'])\n",
    "plt.title('Number of trips by age group')\n",
    "plt.xticks(rotation=90)\n",
    "plt.show()"
   ]
  },
  {
   "cell_type": "code",
   "execution_count": 57,
   "id": "1a7028b2",
   "metadata": {},
   "outputs": [
    {
     "data": {
      "text/plain": [
       "7.0"
      ]
     },
     "execution_count": 57,
     "metadata": {},
     "output_type": "execute_result"
    }
   ],
   "source": [
    "Travel['Duration'].value_counts().idxmax()"
   ]
  },
  {
   "cell_type": "code",
   "execution_count": 58,
   "id": "33e72668",
   "metadata": {},
   "outputs": [
    {
     "data": {
      "text/plain": [
       "Text(0.5, 1.0, 'Top10 costliest countries (in terms of Accommodation)')"
      ]
     },
     "execution_count": 58,
     "metadata": {},
     "output_type": "execute_result"
    },
    {
     "data": {
      "image/png": "[encoded data removed]",
      "text/plain": [
       "<Figure size 1000x600 with 1 Axes>"
      ]
     },
     "metadata": {},
     "output_type": "display_data"
    }
   ],
   "source": [
    "plt.figure(figsize=(10,6))\n",
    "Travel.groupby('Country')['AccomadationCost'].agg('mean').nlargest(10).plot(kind='bar')\n",
    "plt.title('Top10 costliest countries (in terms of Accommodation)')"
   ]
  },
  {
   "cell_type": "code",
   "execution_count": 59,
   "id": "816a6010",
   "metadata": {},
   "outputs": [
    {
     "data": {
      "text/plain": [
       "Text(0.5, 1.0, 'Transportation Types')"
      ]
     },
     "execution_count": 59,
     "metadata": {},
     "output_type": "execute_result"
    },
    {
     "data": {
      "image/png": "[encoded data removed]",
      "text/plain": [
       "<Figure size 640x480 with 1 Axes>"
      ]
     },
     "metadata": {},
     "output_type": "display_data"
    }
   ],
   "source": [
    "a= Travel['Transportation type'].value_counts().sort_values(ascending=False).head(5)\n",
    "a.plot(kind='pie')\n",
    "plt.ylabel('')\n",
    "plt.title('Transportation Types')"
   ]
  },
  {
   "cell_type": "code",
   "execution_count": 60,
   "id": "c101faaa",
   "metadata": {},
   "outputs": [
    {
     "name": "stderr",
     "output_type": "stream",
     "text": [
      "C:\\Users\\shrut\\anaconda3\\lib\\site-packages\\seaborn\\distributions.py:2619: FutureWarning: `distplot` is a deprecated function and will be removed in a future version. Please adapt your code to use either `displot` (a figure-level function with similar flexibility) or `histplot` (an axes-level function for histograms).\n",
      "  warnings.warn(msg, FutureWarning)\n",
      "C:\\Users\\shrut\\anaconda3\\lib\\site-packages\\seaborn\\distributions.py:2619: FutureWarning: `distplot` is a deprecated function and will be removed in a future version. Please adapt your code to use either `displot` (a figure-level function with similar flexibility) or `histplot` (an axes-level function for histograms).\n",
      "  warnings.warn(msg, FutureWarning)\n",
      "C:\\Users\\shrut\\anaconda3\\lib\\site-packages\\seaborn\\distributions.py:2619: FutureWarning: `distplot` is a deprecated function and will be removed in a future version. Please adapt your code to use either `displot` (a figure-level function with similar flexibility) or `histplot` (an axes-level function for histograms).\n",
      "  warnings.warn(msg, FutureWarning)\n",
      "C:\\Users\\shrut\\anaconda3\\lib\\site-packages\\seaborn\\distributions.py:2619: FutureWarning: `distplot` is a deprecated function and will be removed in a future version. Please adapt your code to use either `displot` (a figure-level function with similar flexibility) or `histplot` (an axes-level function for histograms).\n",
      "  warnings.warn(msg, FutureWarning)\n"
     ]
    },
    {
     "data": {
      "text/plain": [
       "<AxesSubplot:xlabel='TransportationCost', ylabel='Density'>"
      ]
     },
     "execution_count": 60,
     "metadata": {},
     "output_type": "execute_result"
    },
    {
     "data": {
      "image/png": "[encoded data removed]",
      "text/plain": [
       "<Figure size 1500x700 with 4 Axes>"
      ]
     },
     "metadata": {},
     "output_type": "display_data"
    }
   ],
   "source": [
    "plt.figure(figsize=(15,7))\n",
    "plt.subplot(2,2,1)\n",
    "sns.distplot(Travel['Duration'])\n",
    "plt.subplot(2,2,2)\n",
    "sns.distplot(Travel['age'])\n",
    "plt.subplot(2,2,3)\n",
    "sns.distplot(Travel['AccomadationCost'])\n",
    "plt.subplot(2,2,4)\n",
    "sns.distplot(Travel['TransportationCost'])"
   ]
  },
  {
   "cell_type": "code",
   "execution_count": 61,
   "id": "19203075",
   "metadata": {},
   "outputs": [
    {
     "data": {
      "image/png": "[encoded data removed]",
      "text/plain": [
       "<Figure size 1600x2000 with 9 Axes>"
      ]
     },
     "metadata": {},
     "output_type": "display_data"
    }
   ],
   "source": [
    "Travel.hist(figsize=(16, 20), bins=50, xlabelsize=8, ylabelsize=8);"
   ]
  },
  {
   "cell_type": "markdown",
   "id": "9b6a0359",
   "metadata": {},
   "source": [
    "# Correaltion"
   ]
  },
  {
   "cell_type": "code",
   "execution_count": 62,
   "id": "40c6c17b",
   "metadata": {},
   "outputs": [
    {
     "data": {
      "text/html": [
       "<div>\n",
       "<style scoped>\n",
       "    .dataframe tbody tr th:only-of-type {\n",
       "        vertical-align: middle;\n",
       "    }\n",
       "\n",
       "    .dataframe tbody tr th {\n",
       "        vertical-align: top;\n",
       "    }\n",
       "\n",
       "    .dataframe thead th {\n",
       "        text-align: right;\n",
       "    }\n",
       "</style>\n",
       "<table border=\"1\" class=\"dataframe\">\n",
       "  <thead>\n",
       "    <tr style=\"text-align: right;\">\n",
       "      <th></th>\n",
       "      <th>Trip ID</th>\n",
       "      <th>Duration</th>\n",
       "      <th>age</th>\n",
       "      <th>AccomadationCost</th>\n",
       "      <th>TransportationCost</th>\n",
       "    </tr>\n",
       "  </thead>\n",
       "  <tbody>\n",
       "    <tr>\n",
       "      <th>Trip ID</th>\n",
       "      <td>1.000000</td>\n",
       "      <td>-0.039328</td>\n",
       "      <td>0.065517</td>\n",
       "      <td>0.348656</td>\n",
       "      <td>0.448495</td>\n",
       "    </tr>\n",
       "    <tr>\n",
       "      <th>Duration</th>\n",
       "      <td>-0.039328</td>\n",
       "      <td>1.000000</td>\n",
       "      <td>-0.118039</td>\n",
       "      <td>-0.129948</td>\n",
       "      <td>-0.001185</td>\n",
       "    </tr>\n",
       "    <tr>\n",
       "      <th>age</th>\n",
       "      <td>0.065517</td>\n",
       "      <td>-0.118039</td>\n",
       "      <td>1.000000</td>\n",
       "      <td>0.039396</td>\n",
       "      <td>0.054533</td>\n",
       "    </tr>\n",
       "    <tr>\n",
       "      <th>AccomadationCost</th>\n",
       "      <td>0.348656</td>\n",
       "      <td>-0.129948</td>\n",
       "      <td>0.039396</td>\n",
       "      <td>1.000000</td>\n",
       "      <td>0.787319</td>\n",
       "    </tr>\n",
       "    <tr>\n",
       "      <th>TransportationCost</th>\n",
       "      <td>0.448495</td>\n",
       "      <td>-0.001185</td>\n",
       "      <td>0.054533</td>\n",
       "      <td>0.787319</td>\n",
       "      <td>1.000000</td>\n",
       "    </tr>\n",
       "  </tbody>\n",
       "</table>\n",
       "</div>"
      ],
      "text/plain": [
       "                     Trip ID  Duration       age  AccomadationCost  \\\n",
       "Trip ID             1.000000 -0.039328  0.065517          0.348656   \n",
       "Duration           -0.039328  1.000000 -0.118039         -0.129948   \n",
       "age                 0.065517 -0.118039  1.000000          0.039396   \n",
       "AccomadationCost    0.348656 -0.129948  0.039396          1.000000   \n",
       "TransportationCost  0.448495 -0.001185  0.054533          0.787319   \n",
       "\n",
       "                    TransportationCost  \n",
       "Trip ID                       0.448495  \n",
       "Duration                     -0.001185  \n",
       "age                           0.054533  \n",
       "AccomadationCost              0.787319  \n",
       "TransportationCost            1.000000  "
      ]
     },
     "execution_count": 62,
     "metadata": {},
     "output_type": "execute_result"
    }
   ],
   "source": [
    "Travel.corr()"
   ]
  },
  {
   "cell_type": "code",
   "execution_count": 63,
   "id": "2df9d11f",
   "metadata": {},
   "outputs": [
    {
     "data": {
      "image/png": "[encoded data removed]",
      "text/plain": [
       "<Figure size 640x480 with 2 Axes>"
      ]
     },
     "metadata": {},
     "output_type": "display_data"
    }
   ],
   "source": [
    "matrix = Travel.corr().round(1)\n",
    "sns.heatmap(matrix, annot=True)\n",
    "plt.show()"
   ]
  },
  {
   "cell_type": "code",
   "execution_count": 64,
   "id": "b2f64ee3",
   "metadata": {},
   "outputs": [
    {
     "data": {
      "image/png": "[encoded data removed]",
      "text/plain": [
       "<Figure size 640x480 with 2 Axes>"
      ]
     },
     "metadata": {},
     "output_type": "display_data"
    }
   ],
   "source": [
    "matrix = Travel.corr().round(1)\n",
    "mask = np.triu(np.ones_like(matrix, dtype=bool))\n",
    "sns.heatmap(matrix, annot=True, vmax=1, vmin=-1, center=0, cmap='vlag', mask=mask)\n",
    "plt.show()"
   ]
  },
  {
   "cell_type": "code",
   "execution_count": 65,
   "id": "a8e3cf47",
   "metadata": {},
   "outputs": [
    {
     "name": "stdout",
     "output_type": "stream",
     "text": [
      "Trip ID             Trip ID               1.000000\n",
      "Duration            Duration              1.000000\n",
      "age                 age                   1.000000\n",
      "AccomadationCost    AccomadationCost      1.000000\n",
      "                    TransportationCost    0.787319\n",
      "TransportationCost  AccomadationCost      0.787319\n",
      "                    TransportationCost    1.000000\n",
      "dtype: float64\n"
     ]
    }
   ],
   "source": [
    "matrix = Travel.corr().unstack()\n",
    "matrix = matrix[abs(matrix) >= 0.7]\n",
    "print(matrix)"
   ]
  },
  {
   "cell_type": "code",
   "execution_count": 66,
   "id": "76fca33f",
   "metadata": {},
   "outputs": [],
   "source": [
    "Travel['TotalCost'] = Travel['AccomadationCost'] + Travel['TransportationCost']"
   ]
  },
  {
   "cell_type": "code",
   "execution_count": 67,
   "id": "7434e57d",
   "metadata": {},
   "outputs": [
    {
     "data": {
      "text/html": [
       "<div>\n",
       "<style scoped>\n",
       "    .dataframe tbody tr th:only-of-type {\n",
       "        vertical-align: middle;\n",
       "    }\n",
       "\n",
       "    .dataframe tbody tr th {\n",
       "        vertical-align: top;\n",
       "    }\n",
       "\n",
       "    .dataframe thead th {\n",
       "        text-align: right;\n",
       "    }\n",
       "</style>\n",
       "<table border=\"1\" class=\"dataframe\">\n",
       "  <thead>\n",
       "    <tr style=\"text-align: right;\">\n",
       "      <th></th>\n",
       "      <th>Trip ID</th>\n",
       "      <th>Start</th>\n",
       "      <th>End</th>\n",
       "      <th>Duration</th>\n",
       "      <th>name</th>\n",
       "      <th>age</th>\n",
       "      <th>gender</th>\n",
       "      <th>nationality</th>\n",
       "      <th>Accommodation type</th>\n",
       "      <th>AccomadationCost</th>\n",
       "      <th>Transportation type</th>\n",
       "      <th>TransportationCost</th>\n",
       "      <th>City</th>\n",
       "      <th>Country</th>\n",
       "      <th>TotalCost</th>\n",
       "    </tr>\n",
       "  </thead>\n",
       "  <tbody>\n",
       "    <tr>\n",
       "      <th>0</th>\n",
       "      <td>1</td>\n",
       "      <td>2023-05-01</td>\n",
       "      <td>2023-05-08</td>\n",
       "      <td>7.0</td>\n",
       "      <td>John Smith</td>\n",
       "      <td>35.0</td>\n",
       "      <td>Male</td>\n",
       "      <td>American</td>\n",
       "      <td>Hotel</td>\n",
       "      <td>1200.0</td>\n",
       "      <td>Plane</td>\n",
       "      <td>600.0</td>\n",
       "      <td>London</td>\n",
       "      <td>UK</td>\n",
       "      <td>1800.0</td>\n",
       "    </tr>\n",
       "    <tr>\n",
       "      <th>1</th>\n",
       "      <td>2</td>\n",
       "      <td>2023-06-15</td>\n",
       "      <td>2023-06-20</td>\n",
       "      <td>5.0</td>\n",
       "      <td>Jane Doe</td>\n",
       "      <td>28.0</td>\n",
       "      <td>Female</td>\n",
       "      <td>Canadian</td>\n",
       "      <td>Resort</td>\n",
       "      <td>800.0</td>\n",
       "      <td>Plane</td>\n",
       "      <td>500.0</td>\n",
       "      <td>Phuket</td>\n",
       "      <td>Thailand</td>\n",
       "      <td>1300.0</td>\n",
       "    </tr>\n",
       "    <tr>\n",
       "      <th>2</th>\n",
       "      <td>3</td>\n",
       "      <td>2023-07-01</td>\n",
       "      <td>2023-07-08</td>\n",
       "      <td>7.0</td>\n",
       "      <td>David Lee</td>\n",
       "      <td>45.0</td>\n",
       "      <td>Male</td>\n",
       "      <td>Korean</td>\n",
       "      <td>Villa</td>\n",
       "      <td>1000.0</td>\n",
       "      <td>Plane</td>\n",
       "      <td>700.0</td>\n",
       "      <td>Bali</td>\n",
       "      <td>Indonesia</td>\n",
       "      <td>1700.0</td>\n",
       "    </tr>\n",
       "    <tr>\n",
       "      <th>3</th>\n",
       "      <td>4</td>\n",
       "      <td>2023-08-15</td>\n",
       "      <td>2023-08-29</td>\n",
       "      <td>14.0</td>\n",
       "      <td>Sarah Johnson</td>\n",
       "      <td>29.0</td>\n",
       "      <td>Female</td>\n",
       "      <td>British</td>\n",
       "      <td>Hotel</td>\n",
       "      <td>2000.0</td>\n",
       "      <td>Plane</td>\n",
       "      <td>1000.0</td>\n",
       "      <td>New York</td>\n",
       "      <td>USA</td>\n",
       "      <td>3000.0</td>\n",
       "    </tr>\n",
       "    <tr>\n",
       "      <th>4</th>\n",
       "      <td>5</td>\n",
       "      <td>2023-09-10</td>\n",
       "      <td>2023-09-17</td>\n",
       "      <td>7.0</td>\n",
       "      <td>Kim Nguyen</td>\n",
       "      <td>26.0</td>\n",
       "      <td>Female</td>\n",
       "      <td>Vietnamese</td>\n",
       "      <td>Airbnb</td>\n",
       "      <td>700.0</td>\n",
       "      <td>Train</td>\n",
       "      <td>200.0</td>\n",
       "      <td>Tokyo</td>\n",
       "      <td>Japan</td>\n",
       "      <td>900.0</td>\n",
       "    </tr>\n",
       "    <tr>\n",
       "      <th>...</th>\n",
       "      <td>...</td>\n",
       "      <td>...</td>\n",
       "      <td>...</td>\n",
       "      <td>...</td>\n",
       "      <td>...</td>\n",
       "      <td>...</td>\n",
       "      <td>...</td>\n",
       "      <td>...</td>\n",
       "      <td>...</td>\n",
       "      <td>...</td>\n",
       "      <td>...</td>\n",
       "      <td>...</td>\n",
       "      <td>...</td>\n",
       "      <td>...</td>\n",
       "      <td>...</td>\n",
       "    </tr>\n",
       "    <tr>\n",
       "      <th>134</th>\n",
       "      <td>135</td>\n",
       "      <td>2023-08-01</td>\n",
       "      <td>2023-08-10</td>\n",
       "      <td>9.0</td>\n",
       "      <td>Jose Perez</td>\n",
       "      <td>37.0</td>\n",
       "      <td>Male</td>\n",
       "      <td>Brazilian</td>\n",
       "      <td>Hostel</td>\n",
       "      <td>2500.0</td>\n",
       "      <td>Car</td>\n",
       "      <td>2000.0</td>\n",
       "      <td>Rio de Janeiro</td>\n",
       "      <td>Brazil</td>\n",
       "      <td>4500.0</td>\n",
       "    </tr>\n",
       "    <tr>\n",
       "      <th>135</th>\n",
       "      <td>136</td>\n",
       "      <td>2023-08-15</td>\n",
       "      <td>2023-08-21</td>\n",
       "      <td>6.0</td>\n",
       "      <td>Emma Wilson</td>\n",
       "      <td>29.0</td>\n",
       "      <td>Female</td>\n",
       "      <td>Canadian</td>\n",
       "      <td>Hotel</td>\n",
       "      <td>5000.0</td>\n",
       "      <td>Plane</td>\n",
       "      <td>3000.0</td>\n",
       "      <td>Vancouver</td>\n",
       "      <td>Canada</td>\n",
       "      <td>8000.0</td>\n",
       "    </tr>\n",
       "    <tr>\n",
       "      <th>136</th>\n",
       "      <td>137</td>\n",
       "      <td>2023-09-01</td>\n",
       "      <td>2023-09-08</td>\n",
       "      <td>7.0</td>\n",
       "      <td>Ryan Chen</td>\n",
       "      <td>34.0</td>\n",
       "      <td>Male</td>\n",
       "      <td>Chinese</td>\n",
       "      <td>Hostel</td>\n",
       "      <td>2000.0</td>\n",
       "      <td>Train</td>\n",
       "      <td>1000.0</td>\n",
       "      <td>Bangkok</td>\n",
       "      <td>Thailand</td>\n",
       "      <td>3000.0</td>\n",
       "    </tr>\n",
       "    <tr>\n",
       "      <th>137</th>\n",
       "      <td>138</td>\n",
       "      <td>2023-09-15</td>\n",
       "      <td>2023-09-22</td>\n",
       "      <td>7.0</td>\n",
       "      <td>Sofia Rodriguez</td>\n",
       "      <td>25.0</td>\n",
       "      <td>Female</td>\n",
       "      <td>Spanish</td>\n",
       "      <td>Airbnb</td>\n",
       "      <td>6000.0</td>\n",
       "      <td>Plane</td>\n",
       "      <td>2500.0</td>\n",
       "      <td>Barcelona</td>\n",
       "      <td>Spain</td>\n",
       "      <td>8500.0</td>\n",
       "    </tr>\n",
       "    <tr>\n",
       "      <th>138</th>\n",
       "      <td>139</td>\n",
       "      <td>2023-10-01</td>\n",
       "      <td>2023-10-08</td>\n",
       "      <td>7.0</td>\n",
       "      <td>William Brown</td>\n",
       "      <td>39.0</td>\n",
       "      <td>Male</td>\n",
       "      <td>New Zealander</td>\n",
       "      <td>Hotel</td>\n",
       "      <td>7000.0</td>\n",
       "      <td>Train</td>\n",
       "      <td>2500.0</td>\n",
       "      <td>Auckland</td>\n",
       "      <td>New Zealand</td>\n",
       "      <td>9500.0</td>\n",
       "    </tr>\n",
       "  </tbody>\n",
       "</table>\n",
       "<p>136 rows × 15 columns</p>\n",
       "</div>"
      ],
      "text/plain": [
       "     Trip ID      Start        End  Duration             name   age  gender  \\\n",
       "0          1 2023-05-01 2023-05-08       7.0       John Smith  35.0    Male   \n",
       "1          2 2023-06-15 2023-06-20       5.0         Jane Doe  28.0  Female   \n",
       "2          3 2023-07-01 2023-07-08       7.0        David Lee  45.0    Male   \n",
       "3          4 2023-08-15 2023-08-29      14.0    Sarah Johnson  29.0  Female   \n",
       "4          5 2023-09-10 2023-09-17       7.0       Kim Nguyen  26.0  Female   \n",
       "..       ...        ...        ...       ...              ...   ...     ...   \n",
       "134      135 2023-08-01 2023-08-10       9.0       Jose Perez  37.0    Male   \n",
       "135      136 2023-08-15 2023-08-21       6.0      Emma Wilson  29.0  Female   \n",
       "136      137 2023-09-01 2023-09-08       7.0        Ryan Chen  34.0    Male   \n",
       "137      138 2023-09-15 2023-09-22       7.0  Sofia Rodriguez  25.0  Female   \n",
       "138      139 2023-10-01 2023-10-08       7.0    William Brown  39.0    Male   \n",
       "\n",
       "       nationality Accommodation type  AccomadationCost Transportation type  \\\n",
       "0         American              Hotel            1200.0               Plane   \n",
       "1         Canadian             Resort             800.0               Plane   \n",
       "2           Korean              Villa            1000.0               Plane   \n",
       "3          British              Hotel            2000.0               Plane   \n",
       "4       Vietnamese             Airbnb             700.0               Train   \n",
       "..             ...                ...               ...                 ...   \n",
       "134      Brazilian             Hostel            2500.0                 Car   \n",
       "135       Canadian              Hotel            5000.0               Plane   \n",
       "136        Chinese             Hostel            2000.0               Train   \n",
       "137        Spanish             Airbnb            6000.0               Plane   \n",
       "138  New Zealander              Hotel            7000.0               Train   \n",
       "\n",
       "     TransportationCost            City       Country  TotalCost  \n",
       "0                 600.0          London            UK     1800.0  \n",
       "1                 500.0          Phuket      Thailand     1300.0  \n",
       "2                 700.0            Bali     Indonesia     1700.0  \n",
       "3                1000.0        New York           USA     3000.0  \n",
       "4                 200.0           Tokyo         Japan      900.0  \n",
       "..                  ...             ...           ...        ...  \n",
       "134              2000.0  Rio de Janeiro        Brazil     4500.0  \n",
       "135              3000.0       Vancouver        Canada     8000.0  \n",
       "136              1000.0         Bangkok      Thailand     3000.0  \n",
       "137              2500.0       Barcelona         Spain     8500.0  \n",
       "138              2500.0        Auckland   New Zealand     9500.0  \n",
       "\n",
       "[136 rows x 15 columns]"
      ]
     },
     "execution_count": 67,
     "metadata": {},
     "output_type": "execute_result"
    }
   ],
   "source": [
    "Travel"
   ]
  },
  {
   "cell_type": "code",
   "execution_count": 68,
   "id": "63f251e2",
   "metadata": {},
   "outputs": [
    {
     "data": {
      "text/html": [
       "<div>\n",
       "<style scoped>\n",
       "    .dataframe tbody tr th:only-of-type {\n",
       "        vertical-align: middle;\n",
       "    }\n",
       "\n",
       "    .dataframe tbody tr th {\n",
       "        vertical-align: top;\n",
       "    }\n",
       "\n",
       "    .dataframe thead th {\n",
       "        text-align: right;\n",
       "    }\n",
       "</style>\n",
       "<table border=\"1\" class=\"dataframe\">\n",
       "  <thead>\n",
       "    <tr style=\"text-align: right;\">\n",
       "      <th></th>\n",
       "      <th>Trip ID</th>\n",
       "      <th>Duration</th>\n",
       "      <th>age</th>\n",
       "      <th>AccomadationCost</th>\n",
       "      <th>TransportationCost</th>\n",
       "      <th>TotalCost</th>\n",
       "    </tr>\n",
       "  </thead>\n",
       "  <tbody>\n",
       "    <tr>\n",
       "      <th>Trip ID</th>\n",
       "      <td>1.000000</td>\n",
       "      <td>-0.039328</td>\n",
       "      <td>0.065517</td>\n",
       "      <td>0.348656</td>\n",
       "      <td>0.448495</td>\n",
       "      <td>0.397296</td>\n",
       "    </tr>\n",
       "    <tr>\n",
       "      <th>Duration</th>\n",
       "      <td>-0.039328</td>\n",
       "      <td>1.000000</td>\n",
       "      <td>-0.118039</td>\n",
       "      <td>-0.129948</td>\n",
       "      <td>-0.001185</td>\n",
       "      <td>-0.095198</td>\n",
       "    </tr>\n",
       "    <tr>\n",
       "      <th>age</th>\n",
       "      <td>0.065517</td>\n",
       "      <td>-0.118039</td>\n",
       "      <td>1.000000</td>\n",
       "      <td>0.039396</td>\n",
       "      <td>0.054533</td>\n",
       "      <td>0.046121</td>\n",
       "    </tr>\n",
       "    <tr>\n",
       "      <th>AccomadationCost</th>\n",
       "      <td>0.348656</td>\n",
       "      <td>-0.129948</td>\n",
       "      <td>0.039396</td>\n",
       "      <td>1.000000</td>\n",
       "      <td>0.787319</td>\n",
       "      <td>0.980518</td>\n",
       "    </tr>\n",
       "    <tr>\n",
       "      <th>TransportationCost</th>\n",
       "      <td>0.448495</td>\n",
       "      <td>-0.001185</td>\n",
       "      <td>0.054533</td>\n",
       "      <td>0.787319</td>\n",
       "      <td>1.000000</td>\n",
       "      <td>0.893087</td>\n",
       "    </tr>\n",
       "    <tr>\n",
       "      <th>TotalCost</th>\n",
       "      <td>0.397296</td>\n",
       "      <td>-0.095198</td>\n",
       "      <td>0.046121</td>\n",
       "      <td>0.980518</td>\n",
       "      <td>0.893087</td>\n",
       "      <td>1.000000</td>\n",
       "    </tr>\n",
       "  </tbody>\n",
       "</table>\n",
       "</div>"
      ],
      "text/plain": [
       "                     Trip ID  Duration       age  AccomadationCost  \\\n",
       "Trip ID             1.000000 -0.039328  0.065517          0.348656   \n",
       "Duration           -0.039328  1.000000 -0.118039         -0.129948   \n",
       "age                 0.065517 -0.118039  1.000000          0.039396   \n",
       "AccomadationCost    0.348656 -0.129948  0.039396          1.000000   \n",
       "TransportationCost  0.448495 -0.001185  0.054533          0.787319   \n",
       "TotalCost           0.397296 -0.095198  0.046121          0.980518   \n",
       "\n",
       "                    TransportationCost  TotalCost  \n",
       "Trip ID                       0.448495   0.397296  \n",
       "Duration                     -0.001185  -0.095198  \n",
       "age                           0.054533   0.046121  \n",
       "AccomadationCost              0.787319   0.980518  \n",
       "TransportationCost            1.000000   0.893087  \n",
       "TotalCost                     0.893087   1.000000  "
      ]
     },
     "execution_count": 68,
     "metadata": {},
     "output_type": "execute_result"
    }
   ],
   "source": [
    "Travel.corr()"
   ]
  }
 ],
 "metadata": {
  "kernelspec": {
   "display_name": "Python 3 (ipykernel)",
   "language": "python",
   "name": "python3"
  },
  "language_info": {
   "codemirror_mode": {
    "name": "ipython",
    "version": 3
   },
   "file_extension": ".py",
   "mimetype": "text/x-python",
   "name": "python",
   "nbconvert_exporter": "python",
   "pygments_lexer": "ipython3",
   "version": "3.9.13"
  }
 },
 "nbformat": 4,
 "nbformat_minor": 5
}
